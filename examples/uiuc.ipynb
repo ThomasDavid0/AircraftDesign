{
 "cells": [
  {
   "cell_type": "code",
   "execution_count": 2,
   "metadata": {},
   "outputs": [
    {
     "data": {
      "text/html": [
       "<div>\n",
       "<style scoped>\n",
       "    .dataframe tbody tr th:only-of-type {\n",
       "        vertical-align: middle;\n",
       "    }\n",
       "\n",
       "    .dataframe tbody tr th {\n",
       "        vertical-align: top;\n",
       "    }\n",
       "\n",
       "    .dataframe thead th {\n",
       "        text-align: right;\n",
       "    }\n",
       "</style>\n",
       "<table border=\"1\" class=\"dataframe\">\n",
       "  <thead>\n",
       "    <tr style=\"text-align: right;\">\n",
       "      <th></th>\n",
       "      <th>re</th>\n",
       "      <th>alpha</th>\n",
       "      <th>Cl</th>\n",
       "      <th>Cm</th>\n",
       "      <th>Cd</th>\n",
       "      <th>warn</th>\n",
       "    </tr>\n",
       "  </thead>\n",
       "  <tbody>\n",
       "    <tr>\n",
       "      <th>0</th>\n",
       "      <td>100000.0</td>\n",
       "      <td>7.67</td>\n",
       "      <td>2.2</td>\n",
       "      <td>0.0035</td>\n",
       "      <td>0.038</td>\n",
       "      <td>1.0</td>\n",
       "    </tr>\n",
       "  </tbody>\n",
       "</table>\n",
       "</div>"
      ],
      "text/plain": [
       "         re  alpha   Cl      Cm     Cd  warn\n",
       "0  100000.0   7.67  2.2  0.0035  0.038   1.0"
      ]
     },
     "execution_count": 2,
     "metadata": {},
     "output_type": "execute_result"
    }
   ],
   "source": [
    "from acdesign.airfoils.polar import UIUCPolars\n",
    "from plotly_templates.aiaa import aiaa_template\n",
    "import numpy as np\n",
    "import pandas as pd\n",
    "\n",
    "afoil = UIUCPolars.local(\"E472\")\n",
    "\n",
    "afoil.lookup(re=100000.0, cl=2.2)"
   ]
  },
  {
   "cell_type": "code",
   "execution_count": 7,
   "metadata": {},
   "outputs": [
    {
     "data": {
      "text/html": [
       "<div>\n",
       "<style scoped>\n",
       "    .dataframe tbody tr th:only-of-type {\n",
       "        vertical-align: middle;\n",
       "    }\n",
       "\n",
       "    .dataframe tbody tr th {\n",
       "        vertical-align: top;\n",
       "    }\n",
       "\n",
       "    .dataframe thead th {\n",
       "        text-align: right;\n",
       "    }\n",
       "</style>\n",
       "<table border=\"1\" class=\"dataframe\">\n",
       "  <thead>\n",
       "    <tr style=\"text-align: right;\">\n",
       "      <th></th>\n",
       "      <th>alpha</th>\n",
       "      <th>Cl</th>\n",
       "      <th>Cm</th>\n",
       "      <th>re</th>\n",
       "      <th>pre_stall</th>\n",
       "      <th>group</th>\n",
       "    </tr>\n",
       "  </thead>\n",
       "  <tbody>\n",
       "    <tr>\n",
       "      <th>0</th>\n",
       "      <td>-5.95</td>\n",
       "      <td>-0.593</td>\n",
       "      <td>-0.0038</td>\n",
       "      <td>0.0</td>\n",
       "      <td>1.0</td>\n",
       "      <td>0</td>\n",
       "    </tr>\n",
       "    <tr>\n",
       "      <th>1</th>\n",
       "      <td>-4.71</td>\n",
       "      <td>-0.476</td>\n",
       "      <td>-0.0028</td>\n",
       "      <td>0.0</td>\n",
       "      <td>1.0</td>\n",
       "      <td>0</td>\n",
       "    </tr>\n",
       "    <tr>\n",
       "      <th>2</th>\n",
       "      <td>-3.44</td>\n",
       "      <td>-0.353</td>\n",
       "      <td>0.0000</td>\n",
       "      <td>0.0</td>\n",
       "      <td>1.0</td>\n",
       "      <td>0</td>\n",
       "    </tr>\n",
       "    <tr>\n",
       "      <th>3</th>\n",
       "      <td>-2.53</td>\n",
       "      <td>-0.265</td>\n",
       "      <td>0.0021</td>\n",
       "      <td>0.0</td>\n",
       "      <td>1.0</td>\n",
       "      <td>0</td>\n",
       "    </tr>\n",
       "    <tr>\n",
       "      <th>4</th>\n",
       "      <td>-1.59</td>\n",
       "      <td>-0.185</td>\n",
       "      <td>0.0048</td>\n",
       "      <td>0.0</td>\n",
       "      <td>1.0</td>\n",
       "      <td>0</td>\n",
       "    </tr>\n",
       "    <tr>\n",
       "      <th>...</th>\n",
       "      <td>...</td>\n",
       "      <td>...</td>\n",
       "      <td>...</td>\n",
       "      <td>...</td>\n",
       "      <td>...</td>\n",
       "      <td>...</td>\n",
       "    </tr>\n",
       "    <tr>\n",
       "      <th>15</th>\n",
       "      <td>9.83</td>\n",
       "      <td>0.989</td>\n",
       "      <td>0.0067</td>\n",
       "      <td>2000000.0</td>\n",
       "      <td>1.0</td>\n",
       "      <td>4</td>\n",
       "    </tr>\n",
       "    <tr>\n",
       "      <th>16</th>\n",
       "      <td>10.92</td>\n",
       "      <td>1.088</td>\n",
       "      <td>0.0094</td>\n",
       "      <td>2000000.0</td>\n",
       "      <td>1.0</td>\n",
       "      <td>4</td>\n",
       "    </tr>\n",
       "    <tr>\n",
       "      <th>17</th>\n",
       "      <td>12.01</td>\n",
       "      <td>1.179</td>\n",
       "      <td>0.0123</td>\n",
       "      <td>2000000.0</td>\n",
       "      <td>1.0</td>\n",
       "      <td>4</td>\n",
       "    </tr>\n",
       "    <tr>\n",
       "      <th>18</th>\n",
       "      <td>13.03</td>\n",
       "      <td>1.249</td>\n",
       "      <td>0.0154</td>\n",
       "      <td>2000000.0</td>\n",
       "      <td>1.0</td>\n",
       "      <td>4</td>\n",
       "    </tr>\n",
       "    <tr>\n",
       "      <th>19</th>\n",
       "      <td>13.99</td>\n",
       "      <td>1.297</td>\n",
       "      <td>0.0185</td>\n",
       "      <td>2000000.0</td>\n",
       "      <td>1.0</td>\n",
       "      <td>4</td>\n",
       "    </tr>\n",
       "  </tbody>\n",
       "</table>\n",
       "<p>123 rows × 6 columns</p>\n",
       "</div>"
      ],
      "text/plain": [
       "    alpha     Cl      Cm         re  pre_stall  group\n",
       "0   -5.95 -0.593 -0.0038        0.0        1.0      0\n",
       "1   -4.71 -0.476 -0.0028        0.0        1.0      0\n",
       "2   -3.44 -0.353  0.0000        0.0        1.0      0\n",
       "3   -2.53 -0.265  0.0021        0.0        1.0      0\n",
       "4   -1.59 -0.185  0.0048        0.0        1.0      0\n",
       "..    ...    ...     ...        ...        ...    ...\n",
       "15   9.83  0.989  0.0067  2000000.0        1.0      4\n",
       "16  10.92  1.088  0.0094  2000000.0        1.0      4\n",
       "17  12.01  1.179  0.0123  2000000.0        1.0      4\n",
       "18  13.03  1.249  0.0154  2000000.0        1.0      4\n",
       "19  13.99  1.297  0.0185  2000000.0        1.0      4\n",
       "\n",
       "[123 rows x 6 columns]"
      ]
     },
     "execution_count": 7,
     "metadata": {},
     "output_type": "execute_result"
    }
   ],
   "source": [
    "\n"
   ]
  },
  {
   "cell_type": "code",
   "execution_count": 33,
   "metadata": {},
   "outputs": [
    {
     "data": {
      "application/vnd.plotly.v1+json": {
       "config": {
        "plotlyServerURL": "https://plot.ly"
       },
       "data": [
        {
         "hovertemplate": "color=0<br>x=%{x}<br>y=%{y}<extra></extra>",
         "legendgroup": "0",
         "line": {
          "color": "#636efa",
          "dash": "solid"
         },
         "marker": {
          "symbol": "circle"
         },
         "mode": "lines",
         "name": "0",
         "orientation": "v",
         "showlegend": true,
         "type": "scatter",
         "x": [
          -0.084,
          0.076,
          0.222,
          0.389,
          0.604,
          0.744,
          0.884,
          1.016,
          1.127,
          1.169,
          1.221,
          -0.084,
          0.076,
          0.222,
          0.389,
          0.604,
          0.744,
          0.884,
          1.016,
          1.127,
          1.169,
          1.221
         ],
         "xaxis": "x",
         "y": [
          0.0265,
          0.0232,
          0.0295,
          0.0333,
          0.0339,
          0.0357,
          0.0389,
          0.039,
          0.0349,
          0.0355,
          0.0374,
          0.0265,
          0.0232,
          0.0295,
          0.0333,
          0.0339,
          0.0357,
          0.0389,
          0.039,
          0.0349,
          0.0355,
          0.0374
         ],
         "yaxis": "y"
        },
        {
         "hovertemplate": "color=1<br>x=%{x}<br>y=%{y}<extra></extra>",
         "legendgroup": "1",
         "line": {
          "color": "#EF553B",
          "dash": "solid"
         },
         "marker": {
          "symbol": "circle"
         },
         "mode": "lines",
         "name": "1",
         "orientation": "v",
         "showlegend": true,
         "type": "scatter",
         "x": [
          -0.125,
          0.07,
          0.235,
          0.436,
          0.605,
          0.759,
          0.907,
          1.033,
          1.152,
          1.299
         ],
         "xaxis": "x",
         "y": [
          0.0249,
          0.022,
          0.0229,
          0.024,
          0.0225,
          0.0206,
          0.0193,
          0.0207,
          0.0255,
          0.0326
         ],
         "yaxis": "y"
        },
        {
         "hovertemplate": "color=2<br>x=%{x}<br>y=%{y}<extra></extra>",
         "legendgroup": "2",
         "line": {
          "color": "#00cc96",
          "dash": "solid"
         },
         "marker": {
          "symbol": "circle"
         },
         "mode": "lines",
         "name": "2",
         "orientation": "v",
         "showlegend": true,
         "type": "scatter",
         "x": [
          -0.177,
          0.038,
          0.166,
          0.338,
          0.526,
          0.654,
          0.81,
          0.944,
          1.073,
          1.197,
          1.29,
          1.309
         ],
         "xaxis": "x",
         "y": [
          0.0213,
          0.0156,
          0.0132,
          0.0105,
          0.0111,
          0.0115,
          0.0125,
          0.0147,
          0.017,
          0.0192,
          0.0225,
          0.0349
         ],
         "yaxis": "y"
        },
        {
         "hovertemplate": "color=3<br>x=%{x}<br>y=%{y}<extra></extra>",
         "legendgroup": "3",
         "line": {
          "color": "#ab63fa",
          "dash": "solid"
         },
         "marker": {
          "symbol": "circle"
         },
         "mode": "lines",
         "name": "3",
         "orientation": "v",
         "showlegend": true,
         "type": "scatter",
         "x": [
          -0.111,
          0.032,
          0.177,
          0.348,
          0.541,
          0.694,
          0.846,
          0.963,
          1.104,
          1.219,
          1.304,
          1.334
         ],
         "xaxis": "x",
         "y": [
          0.0156,
          0.0124,
          0.0102,
          0.0088,
          0.009,
          0.0097,
          0.0108,
          0.0125,
          0.0148,
          0.0168,
          0.0212,
          0.0316
         ],
         "yaxis": "y"
        },
        {
         "hovertemplate": "color=4<br>x=%{x}<br>y=%{y}<extra></extra>",
         "legendgroup": "4",
         "line": {
          "color": "#FFA15A",
          "dash": "solid"
         },
         "marker": {
          "symbol": "circle"
         },
         "mode": "lines",
         "name": "4",
         "orientation": "v",
         "showlegend": true,
         "type": "scatter",
         "x": [
          -0.132,
          0.027,
          0.181,
          0.337,
          0.55,
          0.696,
          0.836,
          0.99,
          1.129,
          1.245,
          1.303,
          1.332,
          -0.132,
          0.027,
          0.181,
          0.337,
          0.55,
          0.696,
          0.836,
          0.99,
          1.129,
          1.245,
          1.303,
          1.332
         ],
         "xaxis": "x",
         "y": [
          0.0142,
          0.0111,
          0.0095,
          0.0074,
          0.0079,
          0.0086,
          0.0098,
          0.0116,
          0.0138,
          0.0165,
          0.0223,
          0.0307,
          0.0142,
          0.0111,
          0.0095,
          0.0074,
          0.0079,
          0.0086,
          0.0098,
          0.0116,
          0.0138,
          0.0165,
          0.0223,
          0.0307
         ],
         "yaxis": "y"
        }
       ],
       "layout": {
        "legend": {
         "title": {
          "text": "color"
         },
         "tracegroupgap": 0
        },
        "margin": {
         "t": 60
        },
        "template": {
         "data": {
          "bar": [
           {
            "error_x": {
             "color": "#2a3f5f"
            },
            "error_y": {
             "color": "#2a3f5f"
            },
            "marker": {
             "line": {
              "color": "#E5ECF6",
              "width": 0.5
             },
             "pattern": {
              "fillmode": "overlay",
              "size": 10,
              "solidity": 0.2
             }
            },
            "type": "bar"
           }
          ],
          "barpolar": [
           {
            "marker": {
             "line": {
              "color": "#E5ECF6",
              "width": 0.5
             },
             "pattern": {
              "fillmode": "overlay",
              "size": 10,
              "solidity": 0.2
             }
            },
            "type": "barpolar"
           }
          ],
          "carpet": [
           {
            "aaxis": {
             "endlinecolor": "#2a3f5f",
             "gridcolor": "white",
             "linecolor": "white",
             "minorgridcolor": "white",
             "startlinecolor": "#2a3f5f"
            },
            "baxis": {
             "endlinecolor": "#2a3f5f",
             "gridcolor": "white",
             "linecolor": "white",
             "minorgridcolor": "white",
             "startlinecolor": "#2a3f5f"
            },
            "type": "carpet"
           }
          ],
          "choropleth": [
           {
            "colorbar": {
             "outlinewidth": 0,
             "ticks": ""
            },
            "type": "choropleth"
           }
          ],
          "contour": [
           {
            "colorbar": {
             "outlinewidth": 0,
             "ticks": ""
            },
            "colorscale": [
             [
              0,
              "#0d0887"
             ],
             [
              0.1111111111111111,
              "#46039f"
             ],
             [
              0.2222222222222222,
              "#7201a8"
             ],
             [
              0.3333333333333333,
              "#9c179e"
             ],
             [
              0.4444444444444444,
              "#bd3786"
             ],
             [
              0.5555555555555556,
              "#d8576b"
             ],
             [
              0.6666666666666666,
              "#ed7953"
             ],
             [
              0.7777777777777778,
              "#fb9f3a"
             ],
             [
              0.8888888888888888,
              "#fdca26"
             ],
             [
              1,
              "#f0f921"
             ]
            ],
            "type": "contour"
           }
          ],
          "contourcarpet": [
           {
            "colorbar": {
             "outlinewidth": 0,
             "ticks": ""
            },
            "type": "contourcarpet"
           }
          ],
          "heatmap": [
           {
            "colorbar": {
             "outlinewidth": 0,
             "ticks": ""
            },
            "colorscale": [
             [
              0,
              "#0d0887"
             ],
             [
              0.1111111111111111,
              "#46039f"
             ],
             [
              0.2222222222222222,
              "#7201a8"
             ],
             [
              0.3333333333333333,
              "#9c179e"
             ],
             [
              0.4444444444444444,
              "#bd3786"
             ],
             [
              0.5555555555555556,
              "#d8576b"
             ],
             [
              0.6666666666666666,
              "#ed7953"
             ],
             [
              0.7777777777777778,
              "#fb9f3a"
             ],
             [
              0.8888888888888888,
              "#fdca26"
             ],
             [
              1,
              "#f0f921"
             ]
            ],
            "type": "heatmap"
           }
          ],
          "heatmapgl": [
           {
            "colorbar": {
             "outlinewidth": 0,
             "ticks": ""
            },
            "colorscale": [
             [
              0,
              "#0d0887"
             ],
             [
              0.1111111111111111,
              "#46039f"
             ],
             [
              0.2222222222222222,
              "#7201a8"
             ],
             [
              0.3333333333333333,
              "#9c179e"
             ],
             [
              0.4444444444444444,
              "#bd3786"
             ],
             [
              0.5555555555555556,
              "#d8576b"
             ],
             [
              0.6666666666666666,
              "#ed7953"
             ],
             [
              0.7777777777777778,
              "#fb9f3a"
             ],
             [
              0.8888888888888888,
              "#fdca26"
             ],
             [
              1,
              "#f0f921"
             ]
            ],
            "type": "heatmapgl"
           }
          ],
          "histogram": [
           {
            "marker": {
             "pattern": {
              "fillmode": "overlay",
              "size": 10,
              "solidity": 0.2
             }
            },
            "type": "histogram"
           }
          ],
          "histogram2d": [
           {
            "colorbar": {
             "outlinewidth": 0,
             "ticks": ""
            },
            "colorscale": [
             [
              0,
              "#0d0887"
             ],
             [
              0.1111111111111111,
              "#46039f"
             ],
             [
              0.2222222222222222,
              "#7201a8"
             ],
             [
              0.3333333333333333,
              "#9c179e"
             ],
             [
              0.4444444444444444,
              "#bd3786"
             ],
             [
              0.5555555555555556,
              "#d8576b"
             ],
             [
              0.6666666666666666,
              "#ed7953"
             ],
             [
              0.7777777777777778,
              "#fb9f3a"
             ],
             [
              0.8888888888888888,
              "#fdca26"
             ],
             [
              1,
              "#f0f921"
             ]
            ],
            "type": "histogram2d"
           }
          ],
          "histogram2dcontour": [
           {
            "colorbar": {
             "outlinewidth": 0,
             "ticks": ""
            },
            "colorscale": [
             [
              0,
              "#0d0887"
             ],
             [
              0.1111111111111111,
              "#46039f"
             ],
             [
              0.2222222222222222,
              "#7201a8"
             ],
             [
              0.3333333333333333,
              "#9c179e"
             ],
             [
              0.4444444444444444,
              "#bd3786"
             ],
             [
              0.5555555555555556,
              "#d8576b"
             ],
             [
              0.6666666666666666,
              "#ed7953"
             ],
             [
              0.7777777777777778,
              "#fb9f3a"
             ],
             [
              0.8888888888888888,
              "#fdca26"
             ],
             [
              1,
              "#f0f921"
             ]
            ],
            "type": "histogram2dcontour"
           }
          ],
          "mesh3d": [
           {
            "colorbar": {
             "outlinewidth": 0,
             "ticks": ""
            },
            "type": "mesh3d"
           }
          ],
          "parcoords": [
           {
            "line": {
             "colorbar": {
              "outlinewidth": 0,
              "ticks": ""
             }
            },
            "type": "parcoords"
           }
          ],
          "pie": [
           {
            "automargin": true,
            "type": "pie"
           }
          ],
          "scatter": [
           {
            "fillpattern": {
             "fillmode": "overlay",
             "size": 10,
             "solidity": 0.2
            },
            "type": "scatter"
           }
          ],
          "scatter3d": [
           {
            "line": {
             "colorbar": {
              "outlinewidth": 0,
              "ticks": ""
             }
            },
            "marker": {
             "colorbar": {
              "outlinewidth": 0,
              "ticks": ""
             }
            },
            "type": "scatter3d"
           }
          ],
          "scattercarpet": [
           {
            "marker": {
             "colorbar": {
              "outlinewidth": 0,
              "ticks": ""
             }
            },
            "type": "scattercarpet"
           }
          ],
          "scattergeo": [
           {
            "marker": {
             "colorbar": {
              "outlinewidth": 0,
              "ticks": ""
             }
            },
            "type": "scattergeo"
           }
          ],
          "scattergl": [
           {
            "marker": {
             "colorbar": {
              "outlinewidth": 0,
              "ticks": ""
             }
            },
            "type": "scattergl"
           }
          ],
          "scattermapbox": [
           {
            "marker": {
             "colorbar": {
              "outlinewidth": 0,
              "ticks": ""
             }
            },
            "type": "scattermapbox"
           }
          ],
          "scatterpolar": [
           {
            "marker": {
             "colorbar": {
              "outlinewidth": 0,
              "ticks": ""
             }
            },
            "type": "scatterpolar"
           }
          ],
          "scatterpolargl": [
           {
            "marker": {
             "colorbar": {
              "outlinewidth": 0,
              "ticks": ""
             }
            },
            "type": "scatterpolargl"
           }
          ],
          "scatterternary": [
           {
            "marker": {
             "colorbar": {
              "outlinewidth": 0,
              "ticks": ""
             }
            },
            "type": "scatterternary"
           }
          ],
          "surface": [
           {
            "colorbar": {
             "outlinewidth": 0,
             "ticks": ""
            },
            "colorscale": [
             [
              0,
              "#0d0887"
             ],
             [
              0.1111111111111111,
              "#46039f"
             ],
             [
              0.2222222222222222,
              "#7201a8"
             ],
             [
              0.3333333333333333,
              "#9c179e"
             ],
             [
              0.4444444444444444,
              "#bd3786"
             ],
             [
              0.5555555555555556,
              "#d8576b"
             ],
             [
              0.6666666666666666,
              "#ed7953"
             ],
             [
              0.7777777777777778,
              "#fb9f3a"
             ],
             [
              0.8888888888888888,
              "#fdca26"
             ],
             [
              1,
              "#f0f921"
             ]
            ],
            "type": "surface"
           }
          ],
          "table": [
           {
            "cells": {
             "fill": {
              "color": "#EBF0F8"
             },
             "line": {
              "color": "white"
             }
            },
            "header": {
             "fill": {
              "color": "#C8D4E3"
             },
             "line": {
              "color": "white"
             }
            },
            "type": "table"
           }
          ]
         },
         "layout": {
          "annotationdefaults": {
           "arrowcolor": "#2a3f5f",
           "arrowhead": 0,
           "arrowwidth": 1
          },
          "autotypenumbers": "strict",
          "coloraxis": {
           "colorbar": {
            "outlinewidth": 0,
            "ticks": ""
           }
          },
          "colorscale": {
           "diverging": [
            [
             0,
             "#8e0152"
            ],
            [
             0.1,
             "#c51b7d"
            ],
            [
             0.2,
             "#de77ae"
            ],
            [
             0.3,
             "#f1b6da"
            ],
            [
             0.4,
             "#fde0ef"
            ],
            [
             0.5,
             "#f7f7f7"
            ],
            [
             0.6,
             "#e6f5d0"
            ],
            [
             0.7,
             "#b8e186"
            ],
            [
             0.8,
             "#7fbc41"
            ],
            [
             0.9,
             "#4d9221"
            ],
            [
             1,
             "#276419"
            ]
           ],
           "sequential": [
            [
             0,
             "#0d0887"
            ],
            [
             0.1111111111111111,
             "#46039f"
            ],
            [
             0.2222222222222222,
             "#7201a8"
            ],
            [
             0.3333333333333333,
             "#9c179e"
            ],
            [
             0.4444444444444444,
             "#bd3786"
            ],
            [
             0.5555555555555556,
             "#d8576b"
            ],
            [
             0.6666666666666666,
             "#ed7953"
            ],
            [
             0.7777777777777778,
             "#fb9f3a"
            ],
            [
             0.8888888888888888,
             "#fdca26"
            ],
            [
             1,
             "#f0f921"
            ]
           ],
           "sequentialminus": [
            [
             0,
             "#0d0887"
            ],
            [
             0.1111111111111111,
             "#46039f"
            ],
            [
             0.2222222222222222,
             "#7201a8"
            ],
            [
             0.3333333333333333,
             "#9c179e"
            ],
            [
             0.4444444444444444,
             "#bd3786"
            ],
            [
             0.5555555555555556,
             "#d8576b"
            ],
            [
             0.6666666666666666,
             "#ed7953"
            ],
            [
             0.7777777777777778,
             "#fb9f3a"
            ],
            [
             0.8888888888888888,
             "#fdca26"
            ],
            [
             1,
             "#f0f921"
            ]
           ]
          },
          "colorway": [
           "#636efa",
           "#EF553B",
           "#00cc96",
           "#ab63fa",
           "#FFA15A",
           "#19d3f3",
           "#FF6692",
           "#B6E880",
           "#FF97FF",
           "#FECB52"
          ],
          "font": {
           "color": "#2a3f5f"
          },
          "geo": {
           "bgcolor": "white",
           "lakecolor": "white",
           "landcolor": "#E5ECF6",
           "showlakes": true,
           "showland": true,
           "subunitcolor": "white"
          },
          "hoverlabel": {
           "align": "left"
          },
          "hovermode": "closest",
          "mapbox": {
           "style": "light"
          },
          "paper_bgcolor": "white",
          "plot_bgcolor": "#E5ECF6",
          "polar": {
           "angularaxis": {
            "gridcolor": "white",
            "linecolor": "white",
            "ticks": ""
           },
           "bgcolor": "#E5ECF6",
           "radialaxis": {
            "gridcolor": "white",
            "linecolor": "white",
            "ticks": ""
           }
          },
          "scene": {
           "xaxis": {
            "backgroundcolor": "#E5ECF6",
            "gridcolor": "white",
            "gridwidth": 2,
            "linecolor": "white",
            "showbackground": true,
            "ticks": "",
            "zerolinecolor": "white"
           },
           "yaxis": {
            "backgroundcolor": "#E5ECF6",
            "gridcolor": "white",
            "gridwidth": 2,
            "linecolor": "white",
            "showbackground": true,
            "ticks": "",
            "zerolinecolor": "white"
           },
           "zaxis": {
            "backgroundcolor": "#E5ECF6",
            "gridcolor": "white",
            "gridwidth": 2,
            "linecolor": "white",
            "showbackground": true,
            "ticks": "",
            "zerolinecolor": "white"
           }
          },
          "shapedefaults": {
           "line": {
            "color": "#2a3f5f"
           }
          },
          "ternary": {
           "aaxis": {
            "gridcolor": "white",
            "linecolor": "white",
            "ticks": ""
           },
           "baxis": {
            "gridcolor": "white",
            "linecolor": "white",
            "ticks": ""
           },
           "bgcolor": "#E5ECF6",
           "caxis": {
            "gridcolor": "white",
            "linecolor": "white",
            "ticks": ""
           }
          },
          "title": {
           "x": 0.05
          },
          "xaxis": {
           "automargin": true,
           "gridcolor": "white",
           "linecolor": "white",
           "ticks": "",
           "title": {
            "standoff": 15
           },
           "zerolinecolor": "white",
           "zerolinewidth": 2
          },
          "yaxis": {
           "automargin": true,
           "gridcolor": "white",
           "linecolor": "white",
           "ticks": "",
           "title": {
            "standoff": 15
           },
           "zerolinecolor": "white",
           "zerolinewidth": 2
          }
         }
        },
        "xaxis": {
         "anchor": "y",
         "domain": [
          0,
          1
         ],
         "title": {
          "text": "x"
         }
        },
        "yaxis": {
         "anchor": "x",
         "domain": [
          0,
          1
         ],
         "title": {
          "text": "y"
         }
        }
       }
      }
     },
     "metadata": {},
     "output_type": "display_data"
    },
    {
     "data": {
      "application/vnd.plotly.v1+json": {
       "config": {
        "plotlyServerURL": "https://plot.ly"
       },
       "data": [
        {
         "name": "0.0",
         "type": "scatter",
         "x": [
          -0.377,
          -0.3576969696969697,
          -0.3383939393939394,
          -0.3190909090909091,
          -0.29978787878787877,
          -0.28048484848484845,
          -0.2611818181818182,
          -0.24187878787878786,
          -0.22257575757575757,
          -0.20327272727272727,
          -0.18396969696969695,
          -0.16466666666666666,
          -0.14536363636363636,
          -0.12606060606060604,
          -0.10675757575757572,
          -0.08745454545454545,
          -0.06815151515151513,
          -0.04884848484848481,
          -0.02954545454545454,
          -0.01024242424242422,
          0.009060606060606102,
          0.02836363636363637,
          0.04766666666666669,
          0.06696969696969701,
          0.08627272727272728,
          0.1055757575757576,
          0.12487878787878792,
          0.1441818181818182,
          0.16348484848484857,
          0.18278787878787883,
          0.2020909090909091,
          0.22139393939393948,
          0.24069696969696974,
          0.26,
          0.2793030303030304,
          0.29860606060606065,
          0.3179090909090909,
          0.3372121212121213,
          0.35651515151515156,
          0.37581818181818183,
          0.3951212121212122,
          0.4144242424242425,
          0.43372727272727274,
          0.4530303030303031,
          0.4723333333333334,
          0.49163636363636365,
          0.510939393939394,
          0.5302424242424243,
          0.5495454545454546,
          0.5688484848484849,
          0.5881515151515152,
          0.6074545454545456,
          0.6267575757575758,
          0.6460606060606062,
          0.6653636363636364,
          0.6846666666666668,
          0.7039696969696971,
          0.7232727272727273,
          0.7425757575757577,
          0.761878787878788,
          0.7811818181818182,
          0.8004848484848486,
          0.819787878787879,
          0.8390909090909091,
          0.8583939393939395,
          0.8776969696969699,
          0.897,
          0.9163030303030304,
          0.9356060606060608,
          0.9549090909090909,
          0.9742121212121213,
          0.9935151515151517,
          1.0128181818181818,
          1.0321212121212122,
          1.0514242424242426,
          1.0707272727272727,
          1.0900303030303031,
          1.1093333333333335,
          1.1286363636363637,
          1.147939393939394,
          1.1672424242424244,
          1.1865454545454546,
          1.205848484848485,
          1.2251515151515153,
          1.2444545454545455,
          1.2637575757575759,
          1.2830606060606062,
          1.3023636363636364,
          1.3216666666666668,
          1.3409696969696971,
          1.3602727272727273,
          1.3795757575757577,
          1.398878787878788,
          1.4181818181818182,
          1.4374848484848486,
          1.456787878787879,
          1.4760909090909091,
          1.4953939393939395,
          1.5146969696969699,
          1.534
         ],
         "y": [
          null,
          null,
          null,
          null,
          null,
          null,
          null,
          null,
          null,
          null,
          null,
          null,
          null,
          null,
          null,
          null,
          0.026655377302436126,
          0.026844622697563873,
          0.02703386809269162,
          0.02722311348781937,
          0.02741235888294712,
          0.027601604278074867,
          0.02779084967320261,
          0.027980095068330366,
          0.028169340463458113,
          0.028358585858585857,
          0.028547831253713605,
          0.028737076648841356,
          0.0289263220439691,
          0.029115567439096848,
          0.0293048128342246,
          0.029494058229352346,
          0.029715357766143105,
          0.02993769633507853,
          0.03016003490401396,
          0.030382373472949385,
          0.030604712041884814,
          0.03082705061082024,
          0.03104938917975567,
          0.0312717277486911,
          0.03149406631762653,
          0.03171640488656196,
          0.03193874345549739,
          0.03216108202443281,
          0.03238342059336824,
          0.03260575916230366,
          0.03282809773123909,
          0.03305043630017452,
          0.03327277486910995,
          0.03349511343804538,
          0.0337174520069808,
          0.03391959628701931,
          0.034029094838171015,
          0.03413859338932273,
          0.034248091940474436,
          0.03435759049162615,
          0.034467089042777864,
          0.03457658759392957,
          0.034686086145081285,
          0.03479558469623299,
          0.034905083247384706,
          0.03501458179853642,
          0.03512408034968813,
          0.03523357890083984,
          0.035343077451991556,
          0.03545257600314326,
          0.03556207455429498,
          0.03567157310544669,
          0.0357810716565984,
          0.03589057020775011,
          0.03600006875890182,
          0.036109567310053534,
          0.03621906586120525,
          0.036328564412356955,
          0.03643806296350867,
          0.03654756151466038,
          0.0366570600658121,
          0.036766558616963804,
          0.03687605716811552,
          0.036985555719267225,
          0.037095054270418946,
          0.037204552821570654,
          0.03731405137272236,
          null,
          null,
          null,
          null,
          null,
          null,
          null,
          null,
          null,
          null,
          null,
          null,
          null,
          null,
          null,
          null,
          null
         ]
        },
        {
         "name": "44433.333333333336",
         "type": "scatter",
         "x": [
          -0.377,
          -0.3576969696969697,
          -0.3383939393939394,
          -0.3190909090909091,
          -0.29978787878787877,
          -0.28048484848484845,
          -0.2611818181818182,
          -0.24187878787878786,
          -0.22257575757575757,
          -0.20327272727272727,
          -0.18396969696969695,
          -0.16466666666666666,
          -0.14536363636363636,
          -0.12606060606060604,
          -0.10675757575757572,
          -0.08745454545454545,
          -0.06815151515151513,
          -0.04884848484848481,
          -0.02954545454545454,
          -0.01024242424242422,
          0.009060606060606102,
          0.02836363636363637,
          0.04766666666666669,
          0.06696969696969701,
          0.08627272727272728,
          0.1055757575757576,
          0.12487878787878792,
          0.1441818181818182,
          0.16348484848484857,
          0.18278787878787883,
          0.2020909090909091,
          0.22139393939393948,
          0.24069696969696974,
          0.26,
          0.2793030303030304,
          0.29860606060606065,
          0.3179090909090909,
          0.3372121212121213,
          0.35651515151515156,
          0.37581818181818183,
          0.3951212121212122,
          0.4144242424242425,
          0.43372727272727274,
          0.4530303030303031,
          0.4723333333333334,
          0.49163636363636365,
          0.510939393939394,
          0.5302424242424243,
          0.5495454545454546,
          0.5688484848484849,
          0.5881515151515152,
          0.6074545454545456,
          0.6267575757575758,
          0.6460606060606062,
          0.6653636363636364,
          0.6846666666666668,
          0.7039696969696971,
          0.7232727272727273,
          0.7425757575757577,
          0.761878787878788,
          0.7811818181818182,
          0.8004848484848486,
          0.819787878787879,
          0.8390909090909091,
          0.8583939393939395,
          0.8776969696969699,
          0.897,
          0.9163030303030304,
          0.9356060606060608,
          0.9549090909090909,
          0.9742121212121213,
          0.9935151515151517,
          1.0128181818181818,
          1.0321212121212122,
          1.0514242424242426,
          1.0707272727272727,
          1.0900303030303031,
          1.1093333333333335,
          1.1286363636363637,
          1.147939393939394,
          1.1672424242424244,
          1.1865454545454546,
          1.205848484848485,
          1.2251515151515153,
          1.2444545454545455,
          1.2637575757575759,
          1.2830606060606062,
          1.3023636363636364,
          1.3216666666666668,
          1.3409696969696971,
          1.3602727272727273,
          1.3795757575757577,
          1.398878787878788,
          1.4181818181818182,
          1.4374848484848486,
          1.456787878787879,
          1.4760909090909091,
          1.4953939393939395,
          1.5146969696969699,
          1.534
         ],
         "y": [
          null,
          null,
          null,
          null,
          null,
          null,
          null,
          null,
          null,
          null,
          null,
          null,
          null,
          null,
          null,
          0.026365188470066518,
          0.026613835884785605,
          0.026752484945222373,
          0.026891134005659144,
          0.02702978306609591,
          0.027168432126532683,
          0.027307081186969458,
          0.027445730247406225,
          0.027584379307842993,
          0.02772302836827976,
          0.027861677428716532,
          0.028000326489153304,
          0.02813897554959007,
          0.028277624610026843,
          0.028416273670463614,
          0.028554922730900385,
          0.028693571791337153,
          0.02883222085177392,
          0.028970869912210692,
          0.029109518972647463,
          0.02924816803308423,
          0.029386817093521006,
          0.029525466153957774,
          0.02966411521439454,
          0.02980276427483131,
          0.029941413335268084,
          0.030080062395704855,
          0.03021871145614162,
          0.03035736051657839,
          0.030496009577015162,
          0.030634658637451934,
          0.0307733076978887,
          0.030911956758325473,
          0.03105060581876224,
          0.031189254879199012,
          0.03132790393963578,
          0.031466553000072554,
          0.03160520206050932,
          0.03174385112094609,
          0.03188250018138286,
          0.03202114924181963,
          0.032159798302256404,
          0.03229844736269317,
          0.03243709642312994,
          0.03257574548356671,
          0.03271439454400348,
          0.03285304360444025,
          0.03299169266487702,
          0.03313034172531379,
          0.0332865006965353,
          0.033475746091663046,
          0.03366499148679079,
          0.03385423688191855,
          0.034054465807265316,
          0.034276804376200745,
          0.034499142945136174,
          0.03472148151407159,
          0.034943820083007025,
          0.035321064327829034,
          0.03602636735813207,
          0.03654756151466038,
          0.0366570600658121,
          0.036766558616963804,
          0.03687605716811551,
          0.036985555719267225,
          0.03709505427041894,
          0.037204552821570654,
          0.03731405137272236,
          0.037144522144522144,
          0.03595664335664336,
          null,
          null,
          null,
          null,
          null,
          null,
          null,
          null,
          null,
          null,
          null,
          null,
          null,
          null,
          null
         ]
        },
        {
         "name": "88866.66666666667",
         "type": "scatter",
         "x": [
          -0.377,
          -0.3576969696969697,
          -0.3383939393939394,
          -0.3190909090909091,
          -0.29978787878787877,
          -0.28048484848484845,
          -0.2611818181818182,
          -0.24187878787878786,
          -0.22257575757575757,
          -0.20327272727272727,
          -0.18396969696969695,
          -0.16466666666666666,
          -0.14536363636363636,
          -0.12606060606060604,
          -0.10675757575757572,
          -0.08745454545454545,
          -0.06815151515151513,
          -0.04884848484848481,
          -0.02954545454545454,
          -0.01024242424242422,
          0.009060606060606102,
          0.02836363636363637,
          0.04766666666666669,
          0.06696969696969701,
          0.08627272727272728,
          0.1055757575757576,
          0.12487878787878792,
          0.1441818181818182,
          0.16348484848484857,
          0.18278787878787883,
          0.2020909090909091,
          0.22139393939393948,
          0.24069696969696974,
          0.26,
          0.2793030303030304,
          0.29860606060606065,
          0.3179090909090909,
          0.3372121212121213,
          0.35651515151515156,
          0.37581818181818183,
          0.3951212121212122,
          0.4144242424242425,
          0.43372727272727274,
          0.4530303030303031,
          0.4723333333333334,
          0.49163636363636365,
          0.510939393939394,
          0.5302424242424243,
          0.5495454545454546,
          0.5688484848484849,
          0.5881515151515152,
          0.6074545454545456,
          0.6267575757575758,
          0.6460606060606062,
          0.6653636363636364,
          0.6846666666666668,
          0.7039696969696971,
          0.7232727272727273,
          0.7425757575757577,
          0.761878787878788,
          0.7811818181818182,
          0.8004848484848486,
          0.819787878787879,
          0.8390909090909091,
          0.8583939393939395,
          0.8776969696969699,
          0.897,
          0.9163030303030304,
          0.9356060606060608,
          0.9549090909090909,
          0.9742121212121213,
          0.9935151515151517,
          1.0128181818181818,
          1.0321212121212122,
          1.0514242424242426,
          1.0707272727272727,
          1.0900303030303031,
          1.1093333333333335,
          1.1286363636363637,
          1.147939393939394,
          1.1672424242424244,
          1.1865454545454546,
          1.205848484848485,
          1.2251515151515153,
          1.2444545454545455,
          1.2637575757575759,
          1.2830606060606062,
          1.3023636363636364,
          1.3216666666666668,
          1.3409696969696971,
          1.3602727272727273,
          1.3795757575757577,
          1.398878787878788,
          1.4181818181818182,
          1.4374848484848486,
          1.456787878787879,
          1.4760909090909091,
          1.4953939393939395,
          1.5146969696969699,
          1.534
         ],
         "y": [
          null,
          null,
          null,
          null,
          null,
          null,
          null,
          null,
          null,
          null,
          null,
          null,
          null,
          null,
          0.02538893901625017,
          0.025492840600084766,
          0.02559674218391937,
          0.025700643767753967,
          0.025804545351588562,
          0.02590844693542316,
          0.026012348519257756,
          0.026116250103092355,
          0.026220151686926957,
          0.026324053270761552,
          0.026427954854596154,
          0.02653185643843075,
          0.026635758022265348,
          0.026739659606099943,
          0.02684356118993454,
          0.026947462773769144,
          0.02705136435760374,
          0.027155265941438335,
          0.027259167525272937,
          0.027363069109107532,
          0.027466970692942128,
          0.02757087227677673,
          0.027674773860611332,
          0.02777867544444592,
          0.027882577028280522,
          0.02798647861211512,
          0.02809038019594972,
          0.02819428177978431,
          0.028298183363618917,
          0.028402084947453513,
          0.028505986531288108,
          0.028609888115122706,
          0.02871378969895731,
          0.028817691282791904,
          0.028921592866626503,
          0.0290254944504611,
          0.029129396034295697,
          0.029233297618130295,
          0.029337199201964897,
          0.029441100785799493,
          0.029545002369634088,
          0.029648903953468683,
          0.029752805537303285,
          0.02985670712113788,
          0.029960608704972483,
          0.03006451028880708,
          0.030168411872641673,
          0.030272313456476272,
          0.03037621504031087,
          0.03048011662414547,
          0.030584018207980065,
          0.03068791979181467,
          0.030791821375649266,
          0.03089572295948386,
          0.031010754139459407,
          0.03119999953458715,
          0.0313892449297149,
          0.031578490324842654,
          0.031767735719970394,
          0.03198796312750901,
          0.03221030169644444,
          0.03243264026537986,
          0.03265497883431529,
          0.03287731740325072,
          0.032969798297993236,
          0.033006706577731346,
          0.03304361485746945,
          0.03308052313720756,
          0.03311743141694566,
          0.03315433969668377,
          0.03319124797642188,
          0.033459288333341296,
          0.033580885780885764,
          null,
          null,
          null,
          null,
          null,
          null,
          null,
          null,
          null,
          null,
          null,
          null,
          null
         ]
        },
        {
         "name": "133300.0",
         "type": "scatter",
         "x": [
          -0.377,
          -0.3576969696969697,
          -0.3383939393939394,
          -0.3190909090909091,
          -0.29978787878787877,
          -0.28048484848484845,
          -0.2611818181818182,
          -0.24187878787878786,
          -0.22257575757575757,
          -0.20327272727272727,
          -0.18396969696969695,
          -0.16466666666666666,
          -0.14536363636363636,
          -0.12606060606060604,
          -0.10675757575757572,
          -0.08745454545454545,
          -0.06815151515151513,
          -0.04884848484848481,
          -0.02954545454545454,
          -0.01024242424242422,
          0.009060606060606102,
          0.02836363636363637,
          0.04766666666666669,
          0.06696969696969701,
          0.08627272727272728,
          0.1055757575757576,
          0.12487878787878792,
          0.1441818181818182,
          0.16348484848484857,
          0.18278787878787883,
          0.2020909090909091,
          0.22139393939393948,
          0.24069696969696974,
          0.26,
          0.2793030303030304,
          0.29860606060606065,
          0.3179090909090909,
          0.3372121212121213,
          0.35651515151515156,
          0.37581818181818183,
          0.3951212121212122,
          0.4144242424242425,
          0.43372727272727274,
          0.4530303030303031,
          0.4723333333333334,
          0.49163636363636365,
          0.510939393939394,
          0.5302424242424243,
          0.5495454545454546,
          0.5688484848484849,
          0.5881515151515152,
          0.6074545454545456,
          0.6267575757575758,
          0.6460606060606062,
          0.6653636363636364,
          0.6846666666666668,
          0.7039696969696971,
          0.7232727272727273,
          0.7425757575757577,
          0.761878787878788,
          0.7811818181818182,
          0.8004848484848486,
          0.819787878787879,
          0.8390909090909091,
          0.8583939393939395,
          0.8776969696969699,
          0.897,
          0.9163030303030304,
          0.9356060606060608,
          0.9549090909090909,
          0.9742121212121213,
          0.9935151515151517,
          1.0128181818181818,
          1.0321212121212122,
          1.0514242424242426,
          1.0707272727272727,
          1.0900303030303031,
          1.1093333333333335,
          1.1286363636363637,
          1.147939393939394,
          1.1672424242424244,
          1.1865454545454546,
          1.205848484848485,
          1.2251515151515153,
          1.2444545454545455,
          1.2637575757575759,
          1.2830606060606062,
          1.3023636363636364,
          1.3216666666666668,
          1.3409696969696971,
          1.3602727272727273,
          1.3795757575757577,
          1.398878787878788,
          1.4181818181818182,
          1.4374848484848486,
          1.456787878787879,
          1.4760909090909091,
          1.4953939393939395,
          1.5146969696969699,
          1.534
         ],
         "y": [
          null,
          null,
          null,
          null,
          null,
          null,
          null,
          null,
          null,
          null,
          null,
          null,
          0.02314708429752066,
          0.023360310185348628,
          0.022955508773168577,
          0.022550707360988527,
          0.022145905948808473,
          0.021741104536628416,
          0.021336303124448366,
          0.020931501712268312,
          0.02052670030008826,
          0.020121898887908208,
          0.02007514064171123,
          0.0200441732134176,
          0.020013205785123965,
          0.019982238356830336,
          0.019951270928536706,
          0.019920303500243073,
          0.01988933607194944,
          0.01985836864365581,
          0.01982740121536218,
          0.019796433787068544,
          0.019765466358774915,
          0.019734498930481285,
          0.019703531502187656,
          0.019672564073894023,
          0.01964159664560039,
          0.01961062921730676,
          0.019579661789013127,
          0.019548694360719494,
          0.019517726932425865,
          0.019388097448165872,
          0.019184907655502396,
          0.018981717862838917,
          0.01877852807017544,
          0.018575338277511965,
          0.018372148484848486,
          0.01816895869218501,
          0.017965768899521534,
          0.017762579106858054,
          0.017559389314194578,
          0.017356199521531102,
          0.01727038888032871,
          0.01735218138161274,
          0.017433973882896765,
          0.017515766384180793,
          0.01759755888546482,
          0.017679351386748844,
          0.017761143888032873,
          0.017842936389316902,
          0.018136073802149755,
          0.019002582577275766,
          0.019869091352401783,
          0.020735600127527783,
          0.021602108902653794,
          0.022468617677779808,
          0.023335126452905815,
          0.02420163522803183,
          0.025068144003157843,
          0.02552098281286144,
          0.02576165672758116,
          0.026002330642300873,
          0.02624300455702059,
          0.026483678471740307,
          0.026724352386460024,
          0.026965026301179737,
          0.027205700215899454,
          0.02744637413061917,
          0.027687048045338884,
          0.027927721960058598,
          0.02816839587477832,
          0.028409069789498035,
          0.028706100154809188,
          0.02964078414215522,
          0.030575468129501245,
          0.03151015211684728,
          0.03244483610419332,
          0.03337952009153934,
          null,
          null,
          null,
          null,
          null,
          null,
          null,
          null,
          null,
          null,
          null,
          null
         ]
        },
        {
         "name": "177733.33333333334",
         "type": "scatter",
         "x": [
          -0.377,
          -0.3576969696969697,
          -0.3383939393939394,
          -0.3190909090909091,
          -0.29978787878787877,
          -0.28048484848484845,
          -0.2611818181818182,
          -0.24187878787878786,
          -0.22257575757575757,
          -0.20327272727272727,
          -0.18396969696969695,
          -0.16466666666666666,
          -0.14536363636363636,
          -0.12606060606060604,
          -0.10675757575757572,
          -0.08745454545454545,
          -0.06815151515151513,
          -0.04884848484848481,
          -0.02954545454545454,
          -0.01024242424242422,
          0.009060606060606102,
          0.02836363636363637,
          0.04766666666666669,
          0.06696969696969701,
          0.08627272727272728,
          0.1055757575757576,
          0.12487878787878792,
          0.1441818181818182,
          0.16348484848484857,
          0.18278787878787883,
          0.2020909090909091,
          0.22139393939393948,
          0.24069696969696974,
          0.26,
          0.2793030303030304,
          0.29860606060606065,
          0.3179090909090909,
          0.3372121212121213,
          0.35651515151515156,
          0.37581818181818183,
          0.3951212121212122,
          0.4144242424242425,
          0.43372727272727274,
          0.4530303030303031,
          0.4723333333333334,
          0.49163636363636365,
          0.510939393939394,
          0.5302424242424243,
          0.5495454545454546,
          0.5688484848484849,
          0.5881515151515152,
          0.6074545454545456,
          0.6267575757575758,
          0.6460606060606062,
          0.6653636363636364,
          0.6846666666666668,
          0.7039696969696971,
          0.7232727272727273,
          0.7425757575757577,
          0.761878787878788,
          0.7811818181818182,
          0.8004848484848486,
          0.819787878787879,
          0.8390909090909091,
          0.8583939393939395,
          0.8776969696969699,
          0.897,
          0.9163030303030304,
          0.9356060606060608,
          0.9549090909090909,
          0.9742121212121213,
          0.9935151515151517,
          1.0128181818181818,
          1.0321212121212122,
          1.0514242424242426,
          1.0707272727272727,
          1.0900303030303031,
          1.1093333333333335,
          1.1286363636363637,
          1.147939393939394,
          1.1672424242424244,
          1.1865454545454546,
          1.205848484848485,
          1.2251515151515153,
          1.2444545454545455,
          1.2637575757575759,
          1.2830606060606062,
          1.3023636363636364,
          1.3216666666666668,
          1.3409696969696971,
          1.3602727272727273,
          1.3795757575757577,
          1.398878787878788,
          1.4181818181818182,
          1.4374848484848486,
          1.456787878787879,
          1.4760909090909091,
          1.4953939393939395,
          1.5146969696969699,
          1.534
         ],
         "y": [
          null,
          null,
          null,
          null,
          null,
          null,
          null,
          null,
          null,
          null,
          null,
          0.022085773980582524,
          0.02168097256840247,
          0.02127617115622242,
          0.020871369744042363,
          0.020466568331862313,
          0.02006176691968226,
          0.019656965507502205,
          0.019252164095322155,
          0.018847362683142098,
          0.018442561270962048,
          0.018037759858781994,
          0.01763295844660194,
          0.01722815703442189,
          0.016823355622241836,
          0.016418554210061782,
          0.01601375279788173,
          0.015608951385701675,
          0.015204149973521621,
          0.014799348561341569,
          0.014394547149161517,
          0.013989745736981462,
          0.013697108604764217,
          0.013666141176470584,
          0.013635173748176955,
          0.013604206319883322,
          0.013573238891589692,
          0.013542271463296061,
          0.013511304035002428,
          0.013337612121212119,
          0.01313442232854864,
          0.012931232535885165,
          0.012757342681047765,
          0.012839135182331792,
          0.012920927683615819,
          0.013002720184899844,
          0.013084512686183871,
          0.013166305187467899,
          0.013248097688751926,
          0.013329890190035953,
          0.013411682691319978,
          0.013493475192604005,
          0.013575267693888034,
          0.01365706019517206,
          0.013738852696456087,
          0.013820645197740114,
          0.01390243769902414,
          0.013984230200308166,
          0.014066022701592192,
          0.014147815202876219,
          0.014229607704160246,
          0.014386235282686587,
          0.0152527440578126,
          0.0161192528329386,
          0.016985761608064615,
          0.01785227038319063,
          0.018718779158316632,
          0.019585287933442646,
          0.02045179670856866,
          0.021318305483694663,
          0.022184814258820677,
          0.023051323033946684,
          0.02391783180907269,
          0.024784340584198705,
          0.02565084935932472,
          0.02651735813445072,
          0.027383866909576733,
          0.028250375684702747,
          0.029116884459828747,
          0.02998339323495476,
          0.030849902010080775,
          0.03171601779628345,
          0.03195669171100316,
          0.03219736562572288,
          0.032438039540442595,
          0.032678713455162316,
          0.03324366112494673,
          0.03417834511229274,
          null,
          null,
          null,
          null,
          null,
          null,
          null,
          null,
          null,
          null,
          null,
          null
         ]
        },
        {
         "name": "222166.6666666667",
         "type": "scatter",
         "x": [
          -0.377,
          -0.3576969696969697,
          -0.3383939393939394,
          -0.3190909090909091,
          -0.29978787878787877,
          -0.28048484848484845,
          -0.2611818181818182,
          -0.24187878787878786,
          -0.22257575757575757,
          -0.20327272727272727,
          -0.18396969696969695,
          -0.16466666666666666,
          -0.14536363636363636,
          -0.12606060606060604,
          -0.10675757575757572,
          -0.08745454545454545,
          -0.06815151515151513,
          -0.04884848484848481,
          -0.02954545454545454,
          -0.01024242424242422,
          0.009060606060606102,
          0.02836363636363637,
          0.04766666666666669,
          0.06696969696969701,
          0.08627272727272728,
          0.1055757575757576,
          0.12487878787878792,
          0.1441818181818182,
          0.16348484848484857,
          0.18278787878787883,
          0.2020909090909091,
          0.22139393939393948,
          0.24069696969696974,
          0.26,
          0.2793030303030304,
          0.29860606060606065,
          0.3179090909090909,
          0.3372121212121213,
          0.35651515151515156,
          0.37581818181818183,
          0.3951212121212122,
          0.4144242424242425,
          0.43372727272727274,
          0.4530303030303031,
          0.4723333333333334,
          0.49163636363636365,
          0.510939393939394,
          0.5302424242424243,
          0.5495454545454546,
          0.5688484848484849,
          0.5881515151515152,
          0.6074545454545456,
          0.6267575757575758,
          0.6460606060606062,
          0.6653636363636364,
          0.6846666666666668,
          0.7039696969696971,
          0.7232727272727273,
          0.7425757575757577,
          0.761878787878788,
          0.7811818181818182,
          0.8004848484848486,
          0.819787878787879,
          0.8390909090909091,
          0.8583939393939395,
          0.8776969696969699,
          0.897,
          0.9163030303030304,
          0.9356060606060608,
          0.9549090909090909,
          0.9742121212121213,
          0.9935151515151517,
          1.0128181818181818,
          1.0321212121212122,
          1.0514242424242426,
          1.0707272727272727,
          1.0900303030303031,
          1.1093333333333335,
          1.1286363636363637,
          1.147939393939394,
          1.1672424242424244,
          1.1865454545454546,
          1.205848484848485,
          1.2251515151515153,
          1.2444545454545455,
          1.2637575757575759,
          1.2830606060606062,
          1.3023636363636364,
          1.3216666666666668,
          1.3409696969696971,
          1.3602727272727273,
          1.3795757575757577,
          1.398878787878788,
          1.4181818181818182,
          1.4374848484848486,
          1.456787878787879,
          1.4760909090909091,
          1.4953939393939395,
          1.5146969696969699,
          1.534
         ],
         "y": [
          null,
          null,
          null,
          null,
          null,
          null,
          null,
          null,
          null,
          null,
          null,
          0.020149125911625914,
          0.01967794446792968,
          0.019273143055749623,
          0.018868341643569573,
          0.01846354023138952,
          0.01805873881920947,
          0.017653937407029415,
          0.01724913599484936,
          0.016844334582669308,
          0.016439533170489254,
          0.016034731758309204,
          0.015629930346129146,
          0.015225128933949096,
          0.014820327521769044,
          0.01441552610958899,
          0.014010724697408938,
          0.013605923285228885,
          0.01320112187304883,
          0.01279632046086878,
          0.012391519048688727,
          0.011986717636508673,
          0.011587301307159775,
          0.011225369488977956,
          0.010863437670796137,
          0.01050150585261432,
          0.010381710874296046,
          0.010318074510659683,
          0.01025443814702332,
          0.010190801783386954,
          0.010217819691771834,
          0.010299612193055861,
          0.010381404694339886,
          0.010463197195623913,
          0.010544989696907942,
          0.010626782198191968,
          0.010708574699475993,
          0.01079036720076002,
          0.010872159702044047,
          0.010953952203328074,
          0.0110357447046121,
          0.011117537205896127,
          0.011199329707180154,
          0.011281122208464181,
          0.011362914709748206,
          0.011444707211032235,
          0.01152649971231626,
          0.011608292213600288,
          0.011690084714884315,
          0.011819041177284917,
          0.011979137400177347,
          0.012139233623069779,
          0.012299329845962211,
          0.012459426068854643,
          0.013146905421944882,
          0.014013414197070896,
          0.0148799229721969,
          0.015746431747322914,
          0.016612940522448928,
          0.017479449297574928,
          0.01834595807270094,
          0.019212466847826952,
          0.02007897562295296,
          0.02094548439807897,
          0.021811993173204983,
          0.022678501948330987,
          0.023545010723457,
          0.024411519498583015,
          0.02527802827370902,
          0.02614453704883503,
          0.027011045823961043,
          0.027877554599087046,
          0.028744063374213057,
          0.02961057214933907,
          0.030558203526222585,
          0.03155197139357536,
          0.03254573926092814,
          0.03353950712828091,
          null,
          null,
          null,
          null,
          null,
          null,
          null,
          null,
          null,
          null,
          null,
          null
         ]
        },
        {
         "name": "266600.0",
         "type": "scatter",
         "x": [
          -0.377,
          -0.3576969696969697,
          -0.3383939393939394,
          -0.3190909090909091,
          -0.29978787878787877,
          -0.28048484848484845,
          -0.2611818181818182,
          -0.24187878787878786,
          -0.22257575757575757,
          -0.20327272727272727,
          -0.18396969696969695,
          -0.16466666666666666,
          -0.14536363636363636,
          -0.12606060606060604,
          -0.10675757575757572,
          -0.08745454545454545,
          -0.06815151515151513,
          -0.04884848484848481,
          -0.02954545454545454,
          -0.01024242424242422,
          0.009060606060606102,
          0.02836363636363637,
          0.04766666666666669,
          0.06696969696969701,
          0.08627272727272728,
          0.1055757575757576,
          0.12487878787878792,
          0.1441818181818182,
          0.16348484848484857,
          0.18278787878787883,
          0.2020909090909091,
          0.22139393939393948,
          0.24069696969696974,
          0.26,
          0.2793030303030304,
          0.29860606060606065,
          0.3179090909090909,
          0.3372121212121213,
          0.35651515151515156,
          0.37581818181818183,
          0.3951212121212122,
          0.4144242424242425,
          0.43372727272727274,
          0.4530303030303031,
          0.4723333333333334,
          0.49163636363636365,
          0.510939393939394,
          0.5302424242424243,
          0.5495454545454546,
          0.5688484848484849,
          0.5881515151515152,
          0.6074545454545456,
          0.6267575757575758,
          0.6460606060606062,
          0.6653636363636364,
          0.6846666666666668,
          0.7039696969696971,
          0.7232727272727273,
          0.7425757575757577,
          0.761878787878788,
          0.7811818181818182,
          0.8004848484848486,
          0.819787878787879,
          0.8390909090909091,
          0.8583939393939395,
          0.8776969696969699,
          0.897,
          0.9163030303030304,
          0.9356060606060608,
          0.9549090909090909,
          0.9742121212121213,
          0.9935151515151517,
          1.0128181818181818,
          1.0321212121212122,
          1.0514242424242426,
          1.0707272727272727,
          1.0900303030303031,
          1.1093333333333335,
          1.1286363636363637,
          1.147939393939394,
          1.1672424242424244,
          1.1865454545454546,
          1.205848484848485,
          1.2251515151515153,
          1.2444545454545455,
          1.2637575757575759,
          1.2830606060606062,
          1.3023636363636364,
          1.3216666666666668,
          1.3409696969696971,
          1.3602727272727273,
          1.3795757575757577,
          1.398878787878788,
          1.4181818181818182,
          1.4374848484848486,
          1.456787878787879,
          1.4760909090909091,
          1.4953939393939395,
          1.5146969696969699,
          1.534
         ],
         "y": [
          null,
          null,
          null,
          null,
          null,
          null,
          null,
          null,
          null,
          null,
          null,
          0.019354074074074076,
          0.018110490522990526,
          0.01735159179789411,
          0.016946790385714058,
          0.016541988973534004,
          0.016137187561353954,
          0.015732386149173896,
          0.015327584736993846,
          0.01492278332481379,
          0.014517981912633739,
          0.014113180500453685,
          0.013729033066132264,
          0.013367101247950444,
          0.013005169429768629,
          0.012643237611586809,
          0.01228130579340499,
          0.011919373975223174,
          0.011557442157041353,
          0.011195510338859536,
          0.01083357852067772,
          0.0104716467024959,
          0.01026637811086709,
          0.010202741747230726,
          0.010139105383594362,
          0.010075469019957997,
          0.010011832656321634,
          0.00994819629268527,
          0.009884559929048907,
          0.009820923565412544,
          0.009757287201776179,
          0.009693650838139816,
          0.009630014474503451,
          0.009566378110867087,
          0.009502741747230724,
          0.009575978613621697,
          0.009657771114905723,
          0.00973956361618975,
          0.009821356117473775,
          0.009903148618757804,
          0.00998494112004183,
          0.010066733621325857,
          0.010148526122609884,
          0.010293493852562226,
          0.010453590075454659,
          0.01061368629834709,
          0.010773782521239523,
          0.010933878744131952,
          0.011093974967024384,
          0.011254071189916816,
          0.011414167412809246,
          0.011574263635701678,
          0.011734359858594112,
          0.011894456081486541,
          0.012054552304378973,
          0.012214648527271405,
          0.012374744750163836,
          0.012688574148357447,
          0.013555082923483461,
          0.014421591698609465,
          0.015288100473735477,
          0.01615460924886149,
          0.01702111802398749,
          0.017887626799113508,
          0.01875413557423952,
          0.019620644349365522,
          0.020565791502960187,
          0.021559559370312963,
          0.02255332723766573,
          0.023547095105018505,
          0.024540862972371284,
          0.02553463083972405,
          0.026528398707076822,
          0.027522166574429602,
          0.028515934441782367,
          0.02950970230913514,
          0.03050347017648792,
          0.031497238043840685,
          0.03249100591119346,
          null,
          null,
          null,
          null,
          null,
          null,
          null,
          null,
          null,
          null,
          null
         ]
        },
        {
         "name": "311033.3333333334",
         "type": "scatter",
         "x": [
          -0.377,
          -0.3576969696969697,
          -0.3383939393939394,
          -0.3190909090909091,
          -0.29978787878787877,
          -0.28048484848484845,
          -0.2611818181818182,
          -0.24187878787878786,
          -0.22257575757575757,
          -0.20327272727272727,
          -0.18396969696969695,
          -0.16466666666666666,
          -0.14536363636363636,
          -0.12606060606060604,
          -0.10675757575757572,
          -0.08745454545454545,
          -0.06815151515151513,
          -0.04884848484848481,
          -0.02954545454545454,
          -0.01024242424242422,
          0.009060606060606102,
          0.02836363636363637,
          0.04766666666666669,
          0.06696969696969701,
          0.08627272727272728,
          0.1055757575757576,
          0.12487878787878792,
          0.1441818181818182,
          0.16348484848484857,
          0.18278787878787883,
          0.2020909090909091,
          0.22139393939393948,
          0.24069696969696974,
          0.26,
          0.2793030303030304,
          0.29860606060606065,
          0.3179090909090909,
          0.3372121212121213,
          0.35651515151515156,
          0.37581818181818183,
          0.3951212121212122,
          0.4144242424242425,
          0.43372727272727274,
          0.4530303030303031,
          0.4723333333333334,
          0.49163636363636365,
          0.510939393939394,
          0.5302424242424243,
          0.5495454545454546,
          0.5688484848484849,
          0.5881515151515152,
          0.6074545454545456,
          0.6267575757575758,
          0.6460606060606062,
          0.6653636363636364,
          0.6846666666666668,
          0.7039696969696971,
          0.7232727272727273,
          0.7425757575757577,
          0.761878787878788,
          0.7811818181818182,
          0.8004848484848486,
          0.819787878787879,
          0.8390909090909091,
          0.8583939393939395,
          0.8776969696969699,
          0.897,
          0.9163030303030304,
          0.9356060606060608,
          0.9549090909090909,
          0.9742121212121213,
          0.9935151515151517,
          1.0128181818181818,
          1.0321212121212122,
          1.0514242424242426,
          1.0707272727272727,
          1.0900303030303031,
          1.1093333333333335,
          1.1286363636363637,
          1.147939393939394,
          1.1672424242424244,
          1.1865454545454546,
          1.205848484848485,
          1.2251515151515153,
          1.2444545454545455,
          1.2637575757575759,
          1.2830606060606062,
          1.3023636363636364,
          1.3216666666666668,
          1.3409696969696971,
          1.3602727272727273,
          1.3795757575757577,
          1.398878787878788,
          1.4181818181818182,
          1.4374848484848486,
          1.456787878787879,
          1.4760909090909091,
          1.4953939393939395,
          1.5146969696969699,
          1.534
         ],
         "y": [
          null,
          null,
          null,
          null,
          null,
          null,
          null,
          null,
          null,
          null,
          null,
          0.019354074074074072,
          0.017027535246285246,
          0.01607185513435513,
          0.015343799012489107,
          0.015053945202826992,
          0.014726452713952712,
          0.014364520895770895,
          0.014002589077589077,
          0.013640657259407258,
          0.01327872544122544,
          0.012916793623043623,
          0.012554861804861803,
          0.012192929986679986,
          0.011830998168498166,
          0.011469066350316349,
          0.01110713453213453,
          0.010745202713952713,
          0.010383270895770893,
          0.01010384414120678,
          0.010040207777570415,
          0.00997657141393405,
          0.009912935050297687,
          0.009849298686661324,
          0.009785662323024961,
          0.009722025959388595,
          0.009658389595752232,
          0.00959475323211587,
          0.009531116868479506,
          0.00946748050484314,
          0.009403844141206777,
          0.009340207777570414,
          0.00927657141393405,
          0.009212935050297686,
          0.009149298686661323,
          0.00908566232302496,
          0.009011280228353399,
          0.008927581451971697,
          0.00893992318287773,
          0.009102244119516847,
          0.009264565056155964,
          0.009425034207498663,
          0.009585130430391093,
          0.009745226653283525,
          0.009905322876175956,
          0.010065419099068388,
          0.01022551532196082,
          0.010385611544853249,
          0.010545707767745681,
          0.010705803990638113,
          0.010865900213530545,
          0.011025996436422977,
          0.01118609265931541,
          0.01134618888220784,
          0.01150628510510027,
          0.011666381327992702,
          0.011826477550885133,
          0.011986573773777567,
          0.012146669996669999,
          0.01230676621956243,
          0.012820238431828734,
          0.01381400629918151,
          0.014807774166534275,
          0.01580154203388705,
          0.016795309901239827,
          0.017789077768592593,
          0.018782845635945372,
          0.019776613503298145,
          0.020770381370650914,
          0.02176414923800369,
          0.022757917105356466,
          0.02375168497270923,
          0.024745452840062007,
          0.025739220707414783,
          0.02673298857476755,
          0.027726756442120325,
          0.028720524309473104,
          0.029744709481551588,
          0.030822744214849485,
          null,
          null,
          null,
          null,
          null,
          null,
          null,
          null,
          null,
          null,
          null
         ]
        },
        {
         "name": "355466.6666666667",
         "type": "scatter",
         "x": [
          -0.377,
          -0.3576969696969697,
          -0.3383939393939394,
          -0.3190909090909091,
          -0.29978787878787877,
          -0.28048484848484845,
          -0.2611818181818182,
          -0.24187878787878786,
          -0.22257575757575757,
          -0.20327272727272727,
          -0.18396969696969695,
          -0.16466666666666666,
          -0.14536363636363636,
          -0.12606060606060604,
          -0.10675757575757572,
          -0.08745454545454545,
          -0.06815151515151513,
          -0.04884848484848481,
          -0.02954545454545454,
          -0.01024242424242422,
          0.009060606060606102,
          0.02836363636363637,
          0.04766666666666669,
          0.06696969696969701,
          0.08627272727272728,
          0.1055757575757576,
          0.12487878787878792,
          0.1441818181818182,
          0.16348484848484857,
          0.18278787878787883,
          0.2020909090909091,
          0.22139393939393948,
          0.24069696969696974,
          0.26,
          0.2793030303030304,
          0.29860606060606065,
          0.3179090909090909,
          0.3372121212121213,
          0.35651515151515156,
          0.37581818181818183,
          0.3951212121212122,
          0.4144242424242425,
          0.43372727272727274,
          0.4530303030303031,
          0.4723333333333334,
          0.49163636363636365,
          0.510939393939394,
          0.5302424242424243,
          0.5495454545454546,
          0.5688484848484849,
          0.5881515151515152,
          0.6074545454545456,
          0.6267575757575758,
          0.6460606060606062,
          0.6653636363636364,
          0.6846666666666668,
          0.7039696969696971,
          0.7232727272727273,
          0.7425757575757577,
          0.761878787878788,
          0.7811818181818182,
          0.8004848484848486,
          0.819787878787879,
          0.8390909090909091,
          0.8583939393939395,
          0.8776969696969699,
          0.897,
          0.9163030303030304,
          0.9356060606060608,
          0.9549090909090909,
          0.9742121212121213,
          0.9935151515151517,
          1.0128181818181818,
          1.0321212121212122,
          1.0514242424242426,
          1.0707272727272727,
          1.0900303030303031,
          1.1093333333333335,
          1.1286363636363637,
          1.147939393939394,
          1.1672424242424244,
          1.1865454545454546,
          1.205848484848485,
          1.2251515151515153,
          1.2444545454545455,
          1.2637575757575759,
          1.2830606060606062,
          1.3023636363636364,
          1.3216666666666668,
          1.3409696969696971,
          1.3602727272727273,
          1.3795757575757577,
          1.398878787878788,
          1.4181818181818182,
          1.4374848484848486,
          1.456787878787879,
          1.4760909090909091,
          1.4953939393939395,
          1.5146969696969699,
          1.534
         ],
         "y": [
          null,
          null,
          null,
          null,
          null,
          null,
          null,
          null,
          null,
          null,
          null,
          0.019354074074074072,
          0.01630848484848485,
          0.014988899857649857,
          0.014582379707619324,
          0.014292525897957209,
          0.01400267208829509,
          0.013712818278632972,
          0.013422964468970858,
          0.013133110659308743,
          0.012843256849646625,
          0.012553403039984508,
          0.012263549230322392,
          0.011915499084249083,
          0.011553567266067266,
          0.011191635447885448,
          0.010829703629703627,
          0.010467771811521812,
          0.010105839993339992,
          0.009798975017656336,
          0.009735338654019973,
          0.009671702290383609,
          0.009608065926747246,
          0.009544429563110881,
          0.009480793199474518,
          0.009417156835838155,
          0.00935352047220179,
          0.009289884108565427,
          0.009209914566012127,
          0.009126215789630425,
          0.00904251701324872,
          0.008958818236867018,
          0.008875119460485314,
          0.008791420684103612,
          0.00870772190772191,
          0.008624023131340204,
          0.008540324354958502,
          0.0084566255785768,
          0.00841805043441407,
          0.008580371371053191,
          0.008742692307692309,
          0.008905013244331426,
          0.009067334180970546,
          0.009229655117609665,
          0.009391976054248782,
          0.0095542969908879,
          0.009716617927527019,
          0.009878938864166138,
          0.010041259800805256,
          0.010203580737444375,
          0.01036590167408349,
          0.010527094153871402,
          0.010687190376763838,
          0.010847286599656267,
          0.011007382822548699,
          0.011167479045441131,
          0.011327575268333561,
          0.011487671491225994,
          0.011647767714118426,
          0.011807863937010856,
          0.011967960159903288,
          0.012797487507999646,
          0.013791255375352411,
          0.014785023242705187,
          0.015778791110057963,
          0.01677255897741073,
          0.017766326844763508,
          0.018760094712116284,
          0.019753862579469046,
          0.020770511749459125,
          0.02184854648275702,
          0.0229265812160549,
          0.024004615949352798,
          0.025082650682650694,
          0.026160685415948577,
          0.02723872014924647,
          0.028316754882544367,
          0.02939478961584225,
          0.030472824349140143,
          null,
          null,
          null,
          null,
          null,
          null,
          null,
          null,
          null,
          null,
          null
         ]
        },
        {
         "name": "399900.0",
         "type": "scatter",
         "x": [
          -0.377,
          -0.3576969696969697,
          -0.3383939393939394,
          -0.3190909090909091,
          -0.29978787878787877,
          -0.28048484848484845,
          -0.2611818181818182,
          -0.24187878787878786,
          -0.22257575757575757,
          -0.20327272727272727,
          -0.18396969696969695,
          -0.16466666666666666,
          -0.14536363636363636,
          -0.12606060606060604,
          -0.10675757575757572,
          -0.08745454545454545,
          -0.06815151515151513,
          -0.04884848484848481,
          -0.02954545454545454,
          -0.01024242424242422,
          0.009060606060606102,
          0.02836363636363637,
          0.04766666666666669,
          0.06696969696969701,
          0.08627272727272728,
          0.1055757575757576,
          0.12487878787878792,
          0.1441818181818182,
          0.16348484848484857,
          0.18278787878787883,
          0.2020909090909091,
          0.22139393939393948,
          0.24069696969696974,
          0.26,
          0.2793030303030304,
          0.29860606060606065,
          0.3179090909090909,
          0.3372121212121213,
          0.35651515151515156,
          0.37581818181818183,
          0.3951212121212122,
          0.4144242424242425,
          0.43372727272727274,
          0.4530303030303031,
          0.4723333333333334,
          0.49163636363636365,
          0.510939393939394,
          0.5302424242424243,
          0.5495454545454546,
          0.5688484848484849,
          0.5881515151515152,
          0.6074545454545456,
          0.6267575757575758,
          0.6460606060606062,
          0.6653636363636364,
          0.6846666666666668,
          0.7039696969696971,
          0.7232727272727273,
          0.7425757575757577,
          0.761878787878788,
          0.7811818181818182,
          0.8004848484848486,
          0.819787878787879,
          0.8390909090909091,
          0.8583939393939395,
          0.8776969696969699,
          0.897,
          0.9163030303030304,
          0.9356060606060608,
          0.9549090909090909,
          0.9742121212121213,
          0.9935151515151517,
          1.0128181818181818,
          1.0321212121212122,
          1.0514242424242426,
          1.0707272727272727,
          1.0900303030303031,
          1.1093333333333335,
          1.1286363636363637,
          1.147939393939394,
          1.1672424242424244,
          1.1865454545454546,
          1.205848484848485,
          1.2251515151515153,
          1.2444545454545455,
          1.2637575757575759,
          1.2830606060606062,
          1.3023636363636364,
          1.3216666666666668,
          1.3409696969696971,
          1.3602727272727273,
          1.3795757575757577,
          1.398878787878788,
          1.4181818181818182,
          1.4374848484848486,
          1.456787878787879,
          1.4760909090909091,
          1.4953939393939395,
          1.5146969696969699,
          1.534
         ],
         "y": [
          null,
          null,
          null,
          null,
          null,
          null,
          null,
          null,
          null,
          null,
          null,
          0.019354074074074076,
          0.01630848484848485,
          0.014110814212411655,
          0.01382096040274954,
          0.013531106593087424,
          0.013241252783425307,
          0.012951398973763191,
          0.012661545164101074,
          0.012371691354438958,
          0.012081837544776841,
          0.011791983735114725,
          0.01150212992545261,
          0.011212276115790492,
          0.010922422306128377,
          0.010632568496466259,
          0.010342714686804142,
          0.010052860877142026,
          0.00976300706747991,
          0.009492247680052558,
          0.009408548903670854,
          0.00932485012728915,
          0.009241151350907448,
          0.009157452574525745,
          0.009073753798144043,
          0.008990055021762339,
          0.008906356245380635,
          0.008822657468998933,
          0.008738958692617229,
          0.008655259916235527,
          0.008571561139853823,
          0.00848786236347212,
          0.008404163587090417,
          0.008320464810708713,
          0.008236766034327011,
          0.008153067257945307,
          0.008069368481563605,
          0.007985669705181902,
          0.007901970928800198,
          0.008058498622589533,
          0.00822081955922865,
          0.00838314049586777,
          0.008545461432506889,
          0.008707782369146006,
          0.008870103305785124,
          0.009032424242424243,
          0.009194745179063362,
          0.00935706611570248,
          0.0095193870523416,
          0.009681707988980718,
          0.009844028925619835,
          0.010006349862258953,
          0.010168670798898072,
          0.01033099173553719,
          0.010493312672176309,
          0.010655633608815428,
          0.010817954545454544,
          0.010980275482093665,
          0.011142596418732784,
          0.0113049173553719,
          0.011467238292011019,
          0.011796314017366659,
          0.012874348750664542,
          0.013952383483962437,
          0.015030418217260332,
          0.016108452950558214,
          0.01718648768385611,
          0.018264522417154004,
          0.019342557150451887,
          0.020420591883749784,
          0.02149862661704768,
          0.02257666135034556,
          0.023654696083643456,
          0.024732730816941353,
          0.025810765550239232,
          0.02688880028353713,
          0.027966835016835025,
          0.029044869750132905,
          0.030122904483430805,
          null,
          null,
          null,
          null,
          null,
          null,
          null,
          null,
          null,
          null,
          null
         ]
        }
       ],
       "layout": {
        "template": {
         "data": {
          "bar": [
           {
            "error_x": {
             "color": "#2a3f5f"
            },
            "error_y": {
             "color": "#2a3f5f"
            },
            "marker": {
             "line": {
              "color": "#E5ECF6",
              "width": 0.5
             },
             "pattern": {
              "fillmode": "overlay",
              "size": 10,
              "solidity": 0.2
             }
            },
            "type": "bar"
           }
          ],
          "barpolar": [
           {
            "marker": {
             "line": {
              "color": "#E5ECF6",
              "width": 0.5
             },
             "pattern": {
              "fillmode": "overlay",
              "size": 10,
              "solidity": 0.2
             }
            },
            "type": "barpolar"
           }
          ],
          "carpet": [
           {
            "aaxis": {
             "endlinecolor": "#2a3f5f",
             "gridcolor": "white",
             "linecolor": "white",
             "minorgridcolor": "white",
             "startlinecolor": "#2a3f5f"
            },
            "baxis": {
             "endlinecolor": "#2a3f5f",
             "gridcolor": "white",
             "linecolor": "white",
             "minorgridcolor": "white",
             "startlinecolor": "#2a3f5f"
            },
            "type": "carpet"
           }
          ],
          "choropleth": [
           {
            "colorbar": {
             "outlinewidth": 0,
             "ticks": ""
            },
            "type": "choropleth"
           }
          ],
          "contour": [
           {
            "colorbar": {
             "outlinewidth": 0,
             "ticks": ""
            },
            "colorscale": [
             [
              0,
              "#0d0887"
             ],
             [
              0.1111111111111111,
              "#46039f"
             ],
             [
              0.2222222222222222,
              "#7201a8"
             ],
             [
              0.3333333333333333,
              "#9c179e"
             ],
             [
              0.4444444444444444,
              "#bd3786"
             ],
             [
              0.5555555555555556,
              "#d8576b"
             ],
             [
              0.6666666666666666,
              "#ed7953"
             ],
             [
              0.7777777777777778,
              "#fb9f3a"
             ],
             [
              0.8888888888888888,
              "#fdca26"
             ],
             [
              1,
              "#f0f921"
             ]
            ],
            "type": "contour"
           }
          ],
          "contourcarpet": [
           {
            "colorbar": {
             "outlinewidth": 0,
             "ticks": ""
            },
            "type": "contourcarpet"
           }
          ],
          "heatmap": [
           {
            "colorbar": {
             "outlinewidth": 0,
             "ticks": ""
            },
            "colorscale": [
             [
              0,
              "#0d0887"
             ],
             [
              0.1111111111111111,
              "#46039f"
             ],
             [
              0.2222222222222222,
              "#7201a8"
             ],
             [
              0.3333333333333333,
              "#9c179e"
             ],
             [
              0.4444444444444444,
              "#bd3786"
             ],
             [
              0.5555555555555556,
              "#d8576b"
             ],
             [
              0.6666666666666666,
              "#ed7953"
             ],
             [
              0.7777777777777778,
              "#fb9f3a"
             ],
             [
              0.8888888888888888,
              "#fdca26"
             ],
             [
              1,
              "#f0f921"
             ]
            ],
            "type": "heatmap"
           }
          ],
          "heatmapgl": [
           {
            "colorbar": {
             "outlinewidth": 0,
             "ticks": ""
            },
            "colorscale": [
             [
              0,
              "#0d0887"
             ],
             [
              0.1111111111111111,
              "#46039f"
             ],
             [
              0.2222222222222222,
              "#7201a8"
             ],
             [
              0.3333333333333333,
              "#9c179e"
             ],
             [
              0.4444444444444444,
              "#bd3786"
             ],
             [
              0.5555555555555556,
              "#d8576b"
             ],
             [
              0.6666666666666666,
              "#ed7953"
             ],
             [
              0.7777777777777778,
              "#fb9f3a"
             ],
             [
              0.8888888888888888,
              "#fdca26"
             ],
             [
              1,
              "#f0f921"
             ]
            ],
            "type": "heatmapgl"
           }
          ],
          "histogram": [
           {
            "marker": {
             "pattern": {
              "fillmode": "overlay",
              "size": 10,
              "solidity": 0.2
             }
            },
            "type": "histogram"
           }
          ],
          "histogram2d": [
           {
            "colorbar": {
             "outlinewidth": 0,
             "ticks": ""
            },
            "colorscale": [
             [
              0,
              "#0d0887"
             ],
             [
              0.1111111111111111,
              "#46039f"
             ],
             [
              0.2222222222222222,
              "#7201a8"
             ],
             [
              0.3333333333333333,
              "#9c179e"
             ],
             [
              0.4444444444444444,
              "#bd3786"
             ],
             [
              0.5555555555555556,
              "#d8576b"
             ],
             [
              0.6666666666666666,
              "#ed7953"
             ],
             [
              0.7777777777777778,
              "#fb9f3a"
             ],
             [
              0.8888888888888888,
              "#fdca26"
             ],
             [
              1,
              "#f0f921"
             ]
            ],
            "type": "histogram2d"
           }
          ],
          "histogram2dcontour": [
           {
            "colorbar": {
             "outlinewidth": 0,
             "ticks": ""
            },
            "colorscale": [
             [
              0,
              "#0d0887"
             ],
             [
              0.1111111111111111,
              "#46039f"
             ],
             [
              0.2222222222222222,
              "#7201a8"
             ],
             [
              0.3333333333333333,
              "#9c179e"
             ],
             [
              0.4444444444444444,
              "#bd3786"
             ],
             [
              0.5555555555555556,
              "#d8576b"
             ],
             [
              0.6666666666666666,
              "#ed7953"
             ],
             [
              0.7777777777777778,
              "#fb9f3a"
             ],
             [
              0.8888888888888888,
              "#fdca26"
             ],
             [
              1,
              "#f0f921"
             ]
            ],
            "type": "histogram2dcontour"
           }
          ],
          "mesh3d": [
           {
            "colorbar": {
             "outlinewidth": 0,
             "ticks": ""
            },
            "type": "mesh3d"
           }
          ],
          "parcoords": [
           {
            "line": {
             "colorbar": {
              "outlinewidth": 0,
              "ticks": ""
             }
            },
            "type": "parcoords"
           }
          ],
          "pie": [
           {
            "automargin": true,
            "type": "pie"
           }
          ],
          "scatter": [
           {
            "fillpattern": {
             "fillmode": "overlay",
             "size": 10,
             "solidity": 0.2
            },
            "type": "scatter"
           }
          ],
          "scatter3d": [
           {
            "line": {
             "colorbar": {
              "outlinewidth": 0,
              "ticks": ""
             }
            },
            "marker": {
             "colorbar": {
              "outlinewidth": 0,
              "ticks": ""
             }
            },
            "type": "scatter3d"
           }
          ],
          "scattercarpet": [
           {
            "marker": {
             "colorbar": {
              "outlinewidth": 0,
              "ticks": ""
             }
            },
            "type": "scattercarpet"
           }
          ],
          "scattergeo": [
           {
            "marker": {
             "colorbar": {
              "outlinewidth": 0,
              "ticks": ""
             }
            },
            "type": "scattergeo"
           }
          ],
          "scattergl": [
           {
            "marker": {
             "colorbar": {
              "outlinewidth": 0,
              "ticks": ""
             }
            },
            "type": "scattergl"
           }
          ],
          "scattermapbox": [
           {
            "marker": {
             "colorbar": {
              "outlinewidth": 0,
              "ticks": ""
             }
            },
            "type": "scattermapbox"
           }
          ],
          "scatterpolar": [
           {
            "marker": {
             "colorbar": {
              "outlinewidth": 0,
              "ticks": ""
             }
            },
            "type": "scatterpolar"
           }
          ],
          "scatterpolargl": [
           {
            "marker": {
             "colorbar": {
              "outlinewidth": 0,
              "ticks": ""
             }
            },
            "type": "scatterpolargl"
           }
          ],
          "scatterternary": [
           {
            "marker": {
             "colorbar": {
              "outlinewidth": 0,
              "ticks": ""
             }
            },
            "type": "scatterternary"
           }
          ],
          "surface": [
           {
            "colorbar": {
             "outlinewidth": 0,
             "ticks": ""
            },
            "colorscale": [
             [
              0,
              "#0d0887"
             ],
             [
              0.1111111111111111,
              "#46039f"
             ],
             [
              0.2222222222222222,
              "#7201a8"
             ],
             [
              0.3333333333333333,
              "#9c179e"
             ],
             [
              0.4444444444444444,
              "#bd3786"
             ],
             [
              0.5555555555555556,
              "#d8576b"
             ],
             [
              0.6666666666666666,
              "#ed7953"
             ],
             [
              0.7777777777777778,
              "#fb9f3a"
             ],
             [
              0.8888888888888888,
              "#fdca26"
             ],
             [
              1,
              "#f0f921"
             ]
            ],
            "type": "surface"
           }
          ],
          "table": [
           {
            "cells": {
             "fill": {
              "color": "#EBF0F8"
             },
             "line": {
              "color": "white"
             }
            },
            "header": {
             "fill": {
              "color": "#C8D4E3"
             },
             "line": {
              "color": "white"
             }
            },
            "type": "table"
           }
          ]
         },
         "layout": {
          "annotationdefaults": {
           "arrowcolor": "#2a3f5f",
           "arrowhead": 0,
           "arrowwidth": 1
          },
          "autotypenumbers": "strict",
          "coloraxis": {
           "colorbar": {
            "outlinewidth": 0,
            "ticks": ""
           }
          },
          "colorscale": {
           "diverging": [
            [
             0,
             "#8e0152"
            ],
            [
             0.1,
             "#c51b7d"
            ],
            [
             0.2,
             "#de77ae"
            ],
            [
             0.3,
             "#f1b6da"
            ],
            [
             0.4,
             "#fde0ef"
            ],
            [
             0.5,
             "#f7f7f7"
            ],
            [
             0.6,
             "#e6f5d0"
            ],
            [
             0.7,
             "#b8e186"
            ],
            [
             0.8,
             "#7fbc41"
            ],
            [
             0.9,
             "#4d9221"
            ],
            [
             1,
             "#276419"
            ]
           ],
           "sequential": [
            [
             0,
             "#0d0887"
            ],
            [
             0.1111111111111111,
             "#46039f"
            ],
            [
             0.2222222222222222,
             "#7201a8"
            ],
            [
             0.3333333333333333,
             "#9c179e"
            ],
            [
             0.4444444444444444,
             "#bd3786"
            ],
            [
             0.5555555555555556,
             "#d8576b"
            ],
            [
             0.6666666666666666,
             "#ed7953"
            ],
            [
             0.7777777777777778,
             "#fb9f3a"
            ],
            [
             0.8888888888888888,
             "#fdca26"
            ],
            [
             1,
             "#f0f921"
            ]
           ],
           "sequentialminus": [
            [
             0,
             "#0d0887"
            ],
            [
             0.1111111111111111,
             "#46039f"
            ],
            [
             0.2222222222222222,
             "#7201a8"
            ],
            [
             0.3333333333333333,
             "#9c179e"
            ],
            [
             0.4444444444444444,
             "#bd3786"
            ],
            [
             0.5555555555555556,
             "#d8576b"
            ],
            [
             0.6666666666666666,
             "#ed7953"
            ],
            [
             0.7777777777777778,
             "#fb9f3a"
            ],
            [
             0.8888888888888888,
             "#fdca26"
            ],
            [
             1,
             "#f0f921"
            ]
           ]
          },
          "colorway": [
           "#636efa",
           "#EF553B",
           "#00cc96",
           "#ab63fa",
           "#FFA15A",
           "#19d3f3",
           "#FF6692",
           "#B6E880",
           "#FF97FF",
           "#FECB52"
          ],
          "font": {
           "color": "#2a3f5f"
          },
          "geo": {
           "bgcolor": "white",
           "lakecolor": "white",
           "landcolor": "#E5ECF6",
           "showlakes": true,
           "showland": true,
           "subunitcolor": "white"
          },
          "hoverlabel": {
           "align": "left"
          },
          "hovermode": "closest",
          "mapbox": {
           "style": "light"
          },
          "paper_bgcolor": "white",
          "plot_bgcolor": "#E5ECF6",
          "polar": {
           "angularaxis": {
            "gridcolor": "white",
            "linecolor": "white",
            "ticks": ""
           },
           "bgcolor": "#E5ECF6",
           "radialaxis": {
            "gridcolor": "white",
            "linecolor": "white",
            "ticks": ""
           }
          },
          "scene": {
           "xaxis": {
            "backgroundcolor": "#E5ECF6",
            "gridcolor": "white",
            "gridwidth": 2,
            "linecolor": "white",
            "showbackground": true,
            "ticks": "",
            "zerolinecolor": "white"
           },
           "yaxis": {
            "backgroundcolor": "#E5ECF6",
            "gridcolor": "white",
            "gridwidth": 2,
            "linecolor": "white",
            "showbackground": true,
            "ticks": "",
            "zerolinecolor": "white"
           },
           "zaxis": {
            "backgroundcolor": "#E5ECF6",
            "gridcolor": "white",
            "gridwidth": 2,
            "linecolor": "white",
            "showbackground": true,
            "ticks": "",
            "zerolinecolor": "white"
           }
          },
          "shapedefaults": {
           "line": {
            "color": "#2a3f5f"
           }
          },
          "ternary": {
           "aaxis": {
            "gridcolor": "white",
            "linecolor": "white",
            "ticks": ""
           },
           "baxis": {
            "gridcolor": "white",
            "linecolor": "white",
            "ticks": ""
           },
           "bgcolor": "#E5ECF6",
           "caxis": {
            "gridcolor": "white",
            "linecolor": "white",
            "ticks": ""
           }
          },
          "title": {
           "x": 0.05
          },
          "xaxis": {
           "automargin": true,
           "gridcolor": "white",
           "linecolor": "white",
           "ticks": "",
           "title": {
            "standoff": 15
           },
           "zerolinecolor": "white",
           "zerolinewidth": 2
          },
          "yaxis": {
           "automargin": true,
           "gridcolor": "white",
           "linecolor": "white",
           "ticks": "",
           "title": {
            "standoff": 15
           },
           "zerolinecolor": "white",
           "zerolinewidth": 2
          }
         }
        }
       }
      }
     },
     "metadata": {},
     "output_type": "display_data"
    }
   ],
   "source": [
    "from acdesign.airfoils.polar import UIUCPolars\n",
    "afoil=UIUCPolars.local('CLARKYB')\n",
    "df2 = afoil.drag\n",
    "import plotly.express as px\n",
    "px.line(x=df2.Cl, y=df2.Cd, color=df2.grp).show()\n",
    "\n",
    "\n",
    "cls = np.linspace(df2.Cl.min()-0.2, df2.Cl.max()+0.2, 100)\n",
    "res = df2.re.unique()[:-1]\n",
    "res = np.linspace(res.min(), res.max(), 10)\n",
    "\n",
    "fig = go.Figure()\n",
    "for re in res:\n",
    "    fig.add_trace(go.Scatter(x=cls, y=afoil.lookup(re, cls).Cd, name=re))\n",
    "fig\n"
   ]
  },
  {
   "cell_type": "code",
   "execution_count": 34,
   "metadata": {},
   "outputs": [
    {
     "data": {
      "application/vnd.plotly.v1+json": {
       "config": {
        "plotlyServerURL": "https://plot.ly"
       },
       "data": [
        {
         "hovertemplate": "re=0.0<br>alpha=%{x}<br>Cm=%{y}<extra></extra>",
         "legendgroup": "0.0",
         "line": {
          "color": "#636efa",
          "dash": "solid"
         },
         "marker": {
          "symbol": "circle"
         },
         "mode": "lines",
         "name": "0.0",
         "orientation": "v",
         "showlegend": true,
         "type": "scatter",
         "x": [
          -6.02,
          -4.47,
          -3.89,
          -2.35,
          -1.78,
          -0.73,
          0.31,
          1.38,
          2.42,
          3.48,
          4.54,
          5.57,
          6.62,
          7.67,
          8.67,
          9.68,
          10.67,
          11.65,
          12.62,
          13.61
         ],
         "xaxis": "x",
         "y": [
          -0.0336,
          -0.0455,
          -0.0469,
          -0.0508,
          -0.0522,
          -0.0521,
          -0.0543,
          -0.0652,
          -0.0704,
          -0.0776,
          -0.0801,
          -0.0769,
          -0.0734,
          -0.0685,
          -0.0626,
          -0.0555,
          -0.0511,
          -0.0442,
          -0.0395,
          -0.0322
         ],
         "yaxis": "y"
        },
        {
         "hovertemplate": "re=60900.0<br>alpha=%{x}<br>Cm=%{y}<extra></extra>",
         "legendgroup": "60900.0",
         "line": {
          "color": "#EF553B",
          "dash": "solid"
         },
         "marker": {
          "symbol": "circle"
         },
         "mode": "lines",
         "name": "60900.0",
         "orientation": "v",
         "showlegend": true,
         "type": "scatter",
         "x": [
          -6.02,
          -4.47,
          -3.89,
          -2.35,
          -1.78,
          -0.73,
          0.31,
          1.38,
          2.42,
          3.48,
          4.54,
          5.57,
          6.62,
          7.67,
          8.67,
          9.68,
          10.67,
          11.65,
          12.62,
          13.61
         ],
         "xaxis": "x",
         "y": [
          -0.0336,
          -0.0455,
          -0.0469,
          -0.0508,
          -0.0522,
          -0.0521,
          -0.0543,
          -0.0652,
          -0.0704,
          -0.0776,
          -0.0801,
          -0.0769,
          -0.0734,
          -0.0685,
          -0.0626,
          -0.0555,
          -0.0511,
          -0.0442,
          -0.0395,
          -0.0322
         ],
         "yaxis": "y"
        },
        {
         "hovertemplate": "re=100700.0<br>alpha=%{x}<br>Cm=%{y}<extra></extra>",
         "legendgroup": "100700.0",
         "line": {
          "color": "#00cc96",
          "dash": "solid"
         },
         "marker": {
          "symbol": "circle"
         },
         "mode": "lines",
         "name": "100700.0",
         "orientation": "v",
         "showlegend": true,
         "type": "scatter",
         "x": [
          -6.04,
          -4.39,
          -3.72,
          -2.56,
          -1.37,
          -0.3,
          0.28,
          1.37,
          2.5,
          3.63,
          4.77,
          5.89,
          6.49,
          7.58,
          8.65,
          9.71,
          10.78,
          11.85,
          12.91,
          13.97
         ],
         "xaxis": "x",
         "y": [
          -0.0241,
          -0.0483,
          -0.0531,
          -0.061,
          -0.0704,
          -0.074,
          -0.0799,
          -0.0822,
          -0.0814,
          -0.0773,
          -0.072,
          -0.0673,
          -0.0649,
          -0.0599,
          -0.0559,
          -0.0524,
          -0.0487,
          -0.0393,
          -0.0303,
          -0.0253
         ],
         "yaxis": "y"
        },
        {
         "hovertemplate": "re=201100.0<br>alpha=%{x}<br>Cm=%{y}<extra></extra>",
         "legendgroup": "201100.0",
         "line": {
          "color": "#ab63fa",
          "dash": "solid"
         },
         "marker": {
          "symbol": "circle"
         },
         "mode": "lines",
         "name": "201100.0",
         "orientation": "v",
         "showlegend": true,
         "type": "scatter",
         "x": [
          -6.05,
          -4.22,
          -3.48,
          -2.27,
          -1.62,
          -0.31,
          0.31,
          1.49,
          2.69,
          3.89,
          4.52,
          5.82,
          7,
          7.66,
          8.79,
          9.85,
          11,
          11.63,
          12.73,
          13.78,
          14.82
         ],
         "xaxis": "x",
         "y": [
          -0.062,
          -0.0832,
          -0.0881,
          -0.0881,
          -0.0865,
          -0.0819,
          -0.083,
          -0.0841,
          -0.0808,
          -0.0774,
          -0.0755,
          -0.0714,
          -0.0677,
          -0.0654,
          -0.0619,
          -0.059,
          -0.0496,
          -0.0432,
          -0.0338,
          -0.0278,
          -0.0261
         ],
         "yaxis": "y"
        },
        {
         "hovertemplate": "re=301500.0<br>alpha=%{x}<br>Cm=%{y}<extra></extra>",
         "legendgroup": "301500.0",
         "line": {
          "color": "#FFA15A",
          "dash": "solid"
         },
         "marker": {
          "symbol": "circle"
         },
         "mode": "lines",
         "name": "301500.0",
         "orientation": "v",
         "showlegend": true,
         "type": "scatter",
         "x": [
          -5.93,
          -4.42,
          -3.43,
          -2.37,
          -1.35,
          -0.29,
          0.34,
          1.41,
          2.54,
          3.72,
          4.39,
          5.73,
          7,
          7.68,
          8.86,
          10.05,
          10.63,
          11.66,
          12.71,
          13.72,
          14.72
         ],
         "xaxis": "x",
         "y": [
          -0.0841,
          -0.0857,
          -0.0833,
          -0.0819,
          -0.0797,
          -0.0772,
          -0.0821,
          -0.0839,
          -0.0814,
          -0.0786,
          -0.0771,
          -0.0723,
          -0.0692,
          -0.0674,
          -0.0633,
          -0.0571,
          -0.0521,
          -0.0422,
          -0.0344,
          -0.0296,
          -0.0283
         ],
         "yaxis": "y"
        },
        {
         "hovertemplate": "re=401900.0<br>alpha=%{x}<br>Cm=%{y}<extra></extra>",
         "legendgroup": "401900.0",
         "line": {
          "color": "#19d3f3",
          "dash": "solid"
         },
         "marker": {
          "symbol": "circle"
         },
         "mode": "lines",
         "name": "401900.0",
         "orientation": "v",
         "showlegend": true,
         "type": "scatter",
         "x": [
          -6.01,
          -4.42,
          -3.77,
          -2.53,
          -1.36,
          -0.64,
          0.63,
          1.87,
          2.71,
          3.59,
          5.01,
          5.89,
          6.76,
          7.63,
          9.37,
          9.04,
          11.48,
          10.8,
          12.93,
          13.69,
          15.02
         ],
         "xaxis": "x",
         "y": [
          -0.0857,
          -0.0815,
          -0.0809,
          -0.0791,
          -0.0783,
          -0.0773,
          -0.0771,
          -0.0815,
          -0.0793,
          -0.0772,
          -0.0726,
          -0.0702,
          -0.0677,
          -0.0655,
          -0.0587,
          -0.0582,
          -0.0428,
          -0.0454,
          -0.0329,
          -0.0303,
          -0.033
         ],
         "yaxis": "y"
        },
        {
         "hovertemplate": "re=4019000.0<br>alpha=%{x}<br>Cm=%{y}<extra></extra>",
         "legendgroup": "4019000.0",
         "line": {
          "color": "#FF6692",
          "dash": "solid"
         },
         "marker": {
          "symbol": "circle"
         },
         "mode": "lines",
         "name": "4019000.0",
         "orientation": "v",
         "showlegend": true,
         "type": "scatter",
         "x": [
          -6.01,
          -4.42,
          -3.77,
          -2.53,
          -1.36,
          -0.64,
          0.63,
          1.87,
          2.71,
          3.59,
          5.01,
          5.89,
          6.76,
          7.63,
          9.37,
          9.04,
          11.48,
          10.8,
          12.93,
          13.69,
          15.02
         ],
         "xaxis": "x",
         "y": [
          -0.0857,
          -0.0815,
          -0.0809,
          -0.0791,
          -0.0783,
          -0.0773,
          -0.0771,
          -0.0815,
          -0.0793,
          -0.0772,
          -0.0726,
          -0.0702,
          -0.0677,
          -0.0655,
          -0.0587,
          -0.0582,
          -0.0428,
          -0.0454,
          -0.0329,
          -0.0303,
          -0.033
         ],
         "yaxis": "y"
        }
       ],
       "layout": {
        "legend": {
         "title": {
          "text": "re"
         },
         "tracegroupgap": 0
        },
        "margin": {
         "t": 60
        },
        "template": {
         "data": {
          "bar": [
           {
            "error_x": {
             "color": "#2a3f5f"
            },
            "error_y": {
             "color": "#2a3f5f"
            },
            "marker": {
             "line": {
              "color": "#E5ECF6",
              "width": 0.5
             },
             "pattern": {
              "fillmode": "overlay",
              "size": 10,
              "solidity": 0.2
             }
            },
            "type": "bar"
           }
          ],
          "barpolar": [
           {
            "marker": {
             "line": {
              "color": "#E5ECF6",
              "width": 0.5
             },
             "pattern": {
              "fillmode": "overlay",
              "size": 10,
              "solidity": 0.2
             }
            },
            "type": "barpolar"
           }
          ],
          "carpet": [
           {
            "aaxis": {
             "endlinecolor": "#2a3f5f",
             "gridcolor": "white",
             "linecolor": "white",
             "minorgridcolor": "white",
             "startlinecolor": "#2a3f5f"
            },
            "baxis": {
             "endlinecolor": "#2a3f5f",
             "gridcolor": "white",
             "linecolor": "white",
             "minorgridcolor": "white",
             "startlinecolor": "#2a3f5f"
            },
            "type": "carpet"
           }
          ],
          "choropleth": [
           {
            "colorbar": {
             "outlinewidth": 0,
             "ticks": ""
            },
            "type": "choropleth"
           }
          ],
          "contour": [
           {
            "colorbar": {
             "outlinewidth": 0,
             "ticks": ""
            },
            "colorscale": [
             [
              0,
              "#0d0887"
             ],
             [
              0.1111111111111111,
              "#46039f"
             ],
             [
              0.2222222222222222,
              "#7201a8"
             ],
             [
              0.3333333333333333,
              "#9c179e"
             ],
             [
              0.4444444444444444,
              "#bd3786"
             ],
             [
              0.5555555555555556,
              "#d8576b"
             ],
             [
              0.6666666666666666,
              "#ed7953"
             ],
             [
              0.7777777777777778,
              "#fb9f3a"
             ],
             [
              0.8888888888888888,
              "#fdca26"
             ],
             [
              1,
              "#f0f921"
             ]
            ],
            "type": "contour"
           }
          ],
          "contourcarpet": [
           {
            "colorbar": {
             "outlinewidth": 0,
             "ticks": ""
            },
            "type": "contourcarpet"
           }
          ],
          "heatmap": [
           {
            "colorbar": {
             "outlinewidth": 0,
             "ticks": ""
            },
            "colorscale": [
             [
              0,
              "#0d0887"
             ],
             [
              0.1111111111111111,
              "#46039f"
             ],
             [
              0.2222222222222222,
              "#7201a8"
             ],
             [
              0.3333333333333333,
              "#9c179e"
             ],
             [
              0.4444444444444444,
              "#bd3786"
             ],
             [
              0.5555555555555556,
              "#d8576b"
             ],
             [
              0.6666666666666666,
              "#ed7953"
             ],
             [
              0.7777777777777778,
              "#fb9f3a"
             ],
             [
              0.8888888888888888,
              "#fdca26"
             ],
             [
              1,
              "#f0f921"
             ]
            ],
            "type": "heatmap"
           }
          ],
          "heatmapgl": [
           {
            "colorbar": {
             "outlinewidth": 0,
             "ticks": ""
            },
            "colorscale": [
             [
              0,
              "#0d0887"
             ],
             [
              0.1111111111111111,
              "#46039f"
             ],
             [
              0.2222222222222222,
              "#7201a8"
             ],
             [
              0.3333333333333333,
              "#9c179e"
             ],
             [
              0.4444444444444444,
              "#bd3786"
             ],
             [
              0.5555555555555556,
              "#d8576b"
             ],
             [
              0.6666666666666666,
              "#ed7953"
             ],
             [
              0.7777777777777778,
              "#fb9f3a"
             ],
             [
              0.8888888888888888,
              "#fdca26"
             ],
             [
              1,
              "#f0f921"
             ]
            ],
            "type": "heatmapgl"
           }
          ],
          "histogram": [
           {
            "marker": {
             "pattern": {
              "fillmode": "overlay",
              "size": 10,
              "solidity": 0.2
             }
            },
            "type": "histogram"
           }
          ],
          "histogram2d": [
           {
            "colorbar": {
             "outlinewidth": 0,
             "ticks": ""
            },
            "colorscale": [
             [
              0,
              "#0d0887"
             ],
             [
              0.1111111111111111,
              "#46039f"
             ],
             [
              0.2222222222222222,
              "#7201a8"
             ],
             [
              0.3333333333333333,
              "#9c179e"
             ],
             [
              0.4444444444444444,
              "#bd3786"
             ],
             [
              0.5555555555555556,
              "#d8576b"
             ],
             [
              0.6666666666666666,
              "#ed7953"
             ],
             [
              0.7777777777777778,
              "#fb9f3a"
             ],
             [
              0.8888888888888888,
              "#fdca26"
             ],
             [
              1,
              "#f0f921"
             ]
            ],
            "type": "histogram2d"
           }
          ],
          "histogram2dcontour": [
           {
            "colorbar": {
             "outlinewidth": 0,
             "ticks": ""
            },
            "colorscale": [
             [
              0,
              "#0d0887"
             ],
             [
              0.1111111111111111,
              "#46039f"
             ],
             [
              0.2222222222222222,
              "#7201a8"
             ],
             [
              0.3333333333333333,
              "#9c179e"
             ],
             [
              0.4444444444444444,
              "#bd3786"
             ],
             [
              0.5555555555555556,
              "#d8576b"
             ],
             [
              0.6666666666666666,
              "#ed7953"
             ],
             [
              0.7777777777777778,
              "#fb9f3a"
             ],
             [
              0.8888888888888888,
              "#fdca26"
             ],
             [
              1,
              "#f0f921"
             ]
            ],
            "type": "histogram2dcontour"
           }
          ],
          "mesh3d": [
           {
            "colorbar": {
             "outlinewidth": 0,
             "ticks": ""
            },
            "type": "mesh3d"
           }
          ],
          "parcoords": [
           {
            "line": {
             "colorbar": {
              "outlinewidth": 0,
              "ticks": ""
             }
            },
            "type": "parcoords"
           }
          ],
          "pie": [
           {
            "automargin": true,
            "type": "pie"
           }
          ],
          "scatter": [
           {
            "fillpattern": {
             "fillmode": "overlay",
             "size": 10,
             "solidity": 0.2
            },
            "type": "scatter"
           }
          ],
          "scatter3d": [
           {
            "line": {
             "colorbar": {
              "outlinewidth": 0,
              "ticks": ""
             }
            },
            "marker": {
             "colorbar": {
              "outlinewidth": 0,
              "ticks": ""
             }
            },
            "type": "scatter3d"
           }
          ],
          "scattercarpet": [
           {
            "marker": {
             "colorbar": {
              "outlinewidth": 0,
              "ticks": ""
             }
            },
            "type": "scattercarpet"
           }
          ],
          "scattergeo": [
           {
            "marker": {
             "colorbar": {
              "outlinewidth": 0,
              "ticks": ""
             }
            },
            "type": "scattergeo"
           }
          ],
          "scattergl": [
           {
            "marker": {
             "colorbar": {
              "outlinewidth": 0,
              "ticks": ""
             }
            },
            "type": "scattergl"
           }
          ],
          "scattermapbox": [
           {
            "marker": {
             "colorbar": {
              "outlinewidth": 0,
              "ticks": ""
             }
            },
            "type": "scattermapbox"
           }
          ],
          "scatterpolar": [
           {
            "marker": {
             "colorbar": {
              "outlinewidth": 0,
              "ticks": ""
             }
            },
            "type": "scatterpolar"
           }
          ],
          "scatterpolargl": [
           {
            "marker": {
             "colorbar": {
              "outlinewidth": 0,
              "ticks": ""
             }
            },
            "type": "scatterpolargl"
           }
          ],
          "scatterternary": [
           {
            "marker": {
             "colorbar": {
              "outlinewidth": 0,
              "ticks": ""
             }
            },
            "type": "scatterternary"
           }
          ],
          "surface": [
           {
            "colorbar": {
             "outlinewidth": 0,
             "ticks": ""
            },
            "colorscale": [
             [
              0,
              "#0d0887"
             ],
             [
              0.1111111111111111,
              "#46039f"
             ],
             [
              0.2222222222222222,
              "#7201a8"
             ],
             [
              0.3333333333333333,
              "#9c179e"
             ],
             [
              0.4444444444444444,
              "#bd3786"
             ],
             [
              0.5555555555555556,
              "#d8576b"
             ],
             [
              0.6666666666666666,
              "#ed7953"
             ],
             [
              0.7777777777777778,
              "#fb9f3a"
             ],
             [
              0.8888888888888888,
              "#fdca26"
             ],
             [
              1,
              "#f0f921"
             ]
            ],
            "type": "surface"
           }
          ],
          "table": [
           {
            "cells": {
             "fill": {
              "color": "#EBF0F8"
             },
             "line": {
              "color": "white"
             }
            },
            "header": {
             "fill": {
              "color": "#C8D4E3"
             },
             "line": {
              "color": "white"
             }
            },
            "type": "table"
           }
          ]
         },
         "layout": {
          "annotationdefaults": {
           "arrowcolor": "#2a3f5f",
           "arrowhead": 0,
           "arrowwidth": 1
          },
          "autotypenumbers": "strict",
          "coloraxis": {
           "colorbar": {
            "outlinewidth": 0,
            "ticks": ""
           }
          },
          "colorscale": {
           "diverging": [
            [
             0,
             "#8e0152"
            ],
            [
             0.1,
             "#c51b7d"
            ],
            [
             0.2,
             "#de77ae"
            ],
            [
             0.3,
             "#f1b6da"
            ],
            [
             0.4,
             "#fde0ef"
            ],
            [
             0.5,
             "#f7f7f7"
            ],
            [
             0.6,
             "#e6f5d0"
            ],
            [
             0.7,
             "#b8e186"
            ],
            [
             0.8,
             "#7fbc41"
            ],
            [
             0.9,
             "#4d9221"
            ],
            [
             1,
             "#276419"
            ]
           ],
           "sequential": [
            [
             0,
             "#0d0887"
            ],
            [
             0.1111111111111111,
             "#46039f"
            ],
            [
             0.2222222222222222,
             "#7201a8"
            ],
            [
             0.3333333333333333,
             "#9c179e"
            ],
            [
             0.4444444444444444,
             "#bd3786"
            ],
            [
             0.5555555555555556,
             "#d8576b"
            ],
            [
             0.6666666666666666,
             "#ed7953"
            ],
            [
             0.7777777777777778,
             "#fb9f3a"
            ],
            [
             0.8888888888888888,
             "#fdca26"
            ],
            [
             1,
             "#f0f921"
            ]
           ],
           "sequentialminus": [
            [
             0,
             "#0d0887"
            ],
            [
             0.1111111111111111,
             "#46039f"
            ],
            [
             0.2222222222222222,
             "#7201a8"
            ],
            [
             0.3333333333333333,
             "#9c179e"
            ],
            [
             0.4444444444444444,
             "#bd3786"
            ],
            [
             0.5555555555555556,
             "#d8576b"
            ],
            [
             0.6666666666666666,
             "#ed7953"
            ],
            [
             0.7777777777777778,
             "#fb9f3a"
            ],
            [
             0.8888888888888888,
             "#fdca26"
            ],
            [
             1,
             "#f0f921"
            ]
           ]
          },
          "colorway": [
           "#636efa",
           "#EF553B",
           "#00cc96",
           "#ab63fa",
           "#FFA15A",
           "#19d3f3",
           "#FF6692",
           "#B6E880",
           "#FF97FF",
           "#FECB52"
          ],
          "font": {
           "color": "#2a3f5f"
          },
          "geo": {
           "bgcolor": "white",
           "lakecolor": "white",
           "landcolor": "#E5ECF6",
           "showlakes": true,
           "showland": true,
           "subunitcolor": "white"
          },
          "hoverlabel": {
           "align": "left"
          },
          "hovermode": "closest",
          "mapbox": {
           "style": "light"
          },
          "paper_bgcolor": "white",
          "plot_bgcolor": "#E5ECF6",
          "polar": {
           "angularaxis": {
            "gridcolor": "white",
            "linecolor": "white",
            "ticks": ""
           },
           "bgcolor": "#E5ECF6",
           "radialaxis": {
            "gridcolor": "white",
            "linecolor": "white",
            "ticks": ""
           }
          },
          "scene": {
           "xaxis": {
            "backgroundcolor": "#E5ECF6",
            "gridcolor": "white",
            "gridwidth": 2,
            "linecolor": "white",
            "showbackground": true,
            "ticks": "",
            "zerolinecolor": "white"
           },
           "yaxis": {
            "backgroundcolor": "#E5ECF6",
            "gridcolor": "white",
            "gridwidth": 2,
            "linecolor": "white",
            "showbackground": true,
            "ticks": "",
            "zerolinecolor": "white"
           },
           "zaxis": {
            "backgroundcolor": "#E5ECF6",
            "gridcolor": "white",
            "gridwidth": 2,
            "linecolor": "white",
            "showbackground": true,
            "ticks": "",
            "zerolinecolor": "white"
           }
          },
          "shapedefaults": {
           "line": {
            "color": "#2a3f5f"
           }
          },
          "ternary": {
           "aaxis": {
            "gridcolor": "white",
            "linecolor": "white",
            "ticks": ""
           },
           "baxis": {
            "gridcolor": "white",
            "linecolor": "white",
            "ticks": ""
           },
           "bgcolor": "#E5ECF6",
           "caxis": {
            "gridcolor": "white",
            "linecolor": "white",
            "ticks": ""
           }
          },
          "title": {
           "x": 0.05
          },
          "xaxis": {
           "automargin": true,
           "gridcolor": "white",
           "linecolor": "white",
           "ticks": "",
           "title": {
            "standoff": 15
           },
           "zerolinecolor": "white",
           "zerolinewidth": 2
          },
          "yaxis": {
           "automargin": true,
           "gridcolor": "white",
           "linecolor": "white",
           "ticks": "",
           "title": {
            "standoff": 15
           },
           "zerolinecolor": "white",
           "zerolinewidth": 2
          }
         }
        },
        "xaxis": {
         "anchor": "y",
         "domain": [
          0,
          1
         ],
         "title": {
          "text": "alpha"
         }
        },
        "yaxis": {
         "anchor": "x",
         "domain": [
          0,
          1
         ],
         "title": {
          "text": "Cm"
         }
        }
       }
      }
     },
     "metadata": {},
     "output_type": "display_data"
    }
   ],
   "source": [
    "df = afoil.lift\n",
    "df = df.loc[df.pre_stall==1.0]\n",
    "\n",
    "\n",
    "px.line(df, x='alpha', y='Cm', color='re')\n"
   ]
  }
 ],
 "metadata": {
  "interpreter": {
   "hash": "a461f03b0145a9e36add5ebe2056001937525fb81057e163abe07e8fec8f063f"
  },
  "kernelspec": {
   "display_name": "Python 3.10.2 ('acdes')",
   "language": "python",
   "name": "python3"
  },
  "language_info": {
   "codemirror_mode": {
    "name": "ipython",
    "version": 3
   },
   "file_extension": ".py",
   "mimetype": "text/x-python",
   "name": "python",
   "nbconvert_exporter": "python",
   "pygments_lexer": "ipython3",
   "version": "3.12.0"
  },
  "orig_nbformat": 4
 },
 "nbformat": 4,
 "nbformat_minor": 2
}
